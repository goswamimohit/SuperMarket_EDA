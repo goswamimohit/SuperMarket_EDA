{
 "cells": [
  {
   "cell_type": "code",
   "execution_count": 1,
   "id": "ddb395f0",
   "metadata": {
    "_cell_guid": "b1076dfc-b9ad-4769-8c92-a6c4dae69d19",
    "_uuid": "8f2839f25d086af736a60e9eeb907d3b93b6e0e5",
    "execution": {
     "iopub.execute_input": "2022-02-21T08:37:20.619152Z",
     "iopub.status.busy": "2022-02-21T08:37:20.617733Z",
     "iopub.status.idle": "2022-02-21T08:37:21.735782Z",
     "shell.execute_reply": "2022-02-21T08:37:21.736388Z",
     "shell.execute_reply.started": "2022-02-21T05:14:20.072505Z"
    },
    "papermill": {
     "duration": 1.218635,
     "end_time": "2022-02-21T08:37:21.736730",
     "exception": false,
     "start_time": "2022-02-21T08:37:20.518095",
     "status": "completed"
    },
    "tags": []
   },
   "outputs": [
    {
     "name": "stdout",
     "output_type": "stream",
     "text": [
      "/kaggle/input/supermarket-sales/supermarket_sales - Sheet1.csv\n"
     ]
    }
   ],
   "source": [
    "# This Python 3 environment comes with many helpful analytics libraries installed\n",
    "# It is defined by the kaggle/python Docker image: https://github.com/kaggle/docker-python\n",
    "# For example, here's several helpful packages to load\n",
    "\n",
    "import numpy as np # linear algebra\n",
    "import pandas as pd # data processing, CSV file I/O (e.g. pd.read_csv)\n",
    "import matplotlib.pyplot as plt\n",
    "import seaborn as sns\n",
    "import missingno as msno\n",
    "# Input data files are available in the read-only \"../input/\" directory\n",
    "# For example, running this (by clicking run or pressing Shift+Enter) will list all files under the input directory\n",
    "\n",
    "import os\n",
    "for dirname, _, filenames in os.walk('/kaggle/input'):\n",
    "    for filename in filenames:\n",
    "        print(os.path.join(dirname, filename))\n",
    "\n",
    "# You can write up to 20GB to the current directory (/kaggle/working/) that gets preserved as output when you create a version using \"Save & Run All\" \n",
    "# You can also write temporary files to /kaggle/temp/, but they won't be saved outside of the current session"
   ]
  },
  {
   "cell_type": "markdown",
   "id": "8b39249b",
   "metadata": {
    "papermill": {
     "duration": 0.094089,
     "end_time": "2022-02-21T08:37:21.926177",
     "exception": false,
     "start_time": "2022-02-21T08:37:21.832088",
     "status": "completed"
    },
    "tags": []
   },
   "source": [
    "# Description of Attributes of the Dataset\n",
    "\n",
    "1. **Invoice id:** Computer generated sales slip invoice identification number\n",
    "1. **Branch:** Branch of supercenter (3 branches are available identified by A, B and C).\n",
    "1. **City:** Location of supercenters\n",
    "1.  **Customer type:** \n",
    "        Type of customers, recorded by Members for customers using member card and Normal for without member card.\n",
    "1.   **Gender:**  Gender type of customer\n",
    "1.     **Product line:** General item categorization groups - \n",
    "            *             Electronic accessories, \n",
    "            *             Fashion accessories, \n",
    "            *             Food and beverages, \n",
    "            *             Health and beauty, \n",
    "            *             Home and lifestyle, \n",
    "            *             Sports and travel\n",
    "1.     **Unit price:** Price of each product in dollor\n",
    "1.     **Quantity:** Number of products purchased by customer\n",
    "1.     **Tax:** 5'%' tax fee for customer buying\n",
    "1.     **Total::** Total price including tax\n",
    "1.     **Date:** Date of purchase (Record available from **January 2019 to March 2019**)\n",
    "1.     **Time:** Purchase time **(10am to 9pm)**\n",
    "1.     **Payment:** Payment used by customer for purchase \n",
    "    (3 methods are available – **Cash, Credit card and Ewallet**)\n",
    "1.     **COGS**: Cost of goods sold\n",
    "1.     **Gross margin percentage:** Gross margin percentage\n",
    "1.     **Gross income:** Gross income\n",
    "1.     **Rating**: Customer stratification rating on their overall shopping experience (**On a scale of 1 to 10**)"
   ]
  },
  {
   "cell_type": "markdown",
   "id": "d829eefe",
   "metadata": {
    "papermill": {
     "duration": 0.091632,
     "end_time": "2022-02-21T08:37:22.108853",
     "exception": false,
     "start_time": "2022-02-21T08:37:22.017221",
     "status": "completed"
    },
    "tags": []
   },
   "source": [
    "# Important librarires"
   ]
  },
  {
   "cell_type": "code",
   "execution_count": 2,
   "id": "051e2000",
   "metadata": {
    "execution": {
     "iopub.execute_input": "2022-02-21T08:37:22.312111Z",
     "iopub.status.busy": "2022-02-21T08:37:22.310972Z",
     "iopub.status.idle": "2022-02-21T08:37:22.314286Z",
     "shell.execute_reply": "2022-02-21T08:37:22.313605Z",
     "shell.execute_reply.started": "2022-02-21T05:24:46.606323Z"
    },
    "jupyter": {
     "source_hidden": true
    },
    "papermill": {
     "duration": 0.108367,
     "end_time": "2022-02-21T08:37:22.314459",
     "exception": false,
     "start_time": "2022-02-21T08:37:22.206092",
     "status": "completed"
    },
    "tags": []
   },
   "outputs": [],
   "source": [
    "import numpy as np # linear algebra\n",
    "import pandas as pd # data processing, CSV file I/O (e.g. pd.read_csv)\n",
    "import matplotlib.pyplot as plt\n",
    "import seaborn as sns\n",
    "import missingno as msno\n",
    "%matplotlib inline"
   ]
  },
  {
   "cell_type": "markdown",
   "id": "67590ceb",
   "metadata": {
    "papermill": {
     "duration": 0.091017,
     "end_time": "2022-02-21T08:37:22.499924",
     "exception": false,
     "start_time": "2022-02-21T08:37:22.408907",
     "status": "completed"
    },
    "tags": []
   },
   "source": [
    "# Inspecting and loading of file in pandas"
   ]
  },
  {
   "cell_type": "code",
   "execution_count": 3,
   "id": "72bc7651",
   "metadata": {
    "execution": {
     "iopub.execute_input": "2022-02-21T08:37:22.688114Z",
     "iopub.status.busy": "2022-02-21T08:37:22.687003Z",
     "iopub.status.idle": "2022-02-21T08:37:22.709648Z",
     "shell.execute_reply": "2022-02-21T08:37:22.710162Z",
     "shell.execute_reply.started": "2022-02-21T05:17:06.472489Z"
    },
    "jupyter": {
     "source_hidden": true
    },
    "papermill": {
     "duration": 0.118835,
     "end_time": "2022-02-21T08:37:22.710395",
     "exception": false,
     "start_time": "2022-02-21T08:37:22.591560",
     "status": "completed"
    },
    "tags": []
   },
   "outputs": [],
   "source": [
    "mkt =pd.read_csv('/kaggle/input/supermarket-sales/supermarket_sales - Sheet1.csv')#loading of csv file in mkt dataframe"
   ]
  },
  {
   "cell_type": "markdown",
   "id": "9fdb1733",
   "metadata": {
    "papermill": {
     "duration": 0.095901,
     "end_time": "2022-02-21T08:37:22.899246",
     "exception": false,
     "start_time": "2022-02-21T08:37:22.803345",
     "status": "completed"
    },
    "tags": []
   },
   "source": [
    "# Shape of dataframe"
   ]
  },
  {
   "cell_type": "code",
   "execution_count": 4,
   "id": "9a4eded6",
   "metadata": {
    "execution": {
     "iopub.execute_input": "2022-02-21T08:37:23.090762Z",
     "iopub.status.busy": "2022-02-21T08:37:23.090038Z",
     "iopub.status.idle": "2022-02-21T08:37:23.097283Z",
     "shell.execute_reply": "2022-02-21T08:37:23.097930Z",
     "shell.execute_reply.started": "2022-02-21T05:21:32.814287Z"
    },
    "papermill": {
     "duration": 0.104325,
     "end_time": "2022-02-21T08:37:23.098106",
     "exception": false,
     "start_time": "2022-02-21T08:37:22.993781",
     "status": "completed"
    },
    "tags": []
   },
   "outputs": [
    {
     "data": {
      "text/plain": [
       "(1000, 17)"
      ]
     },
     "execution_count": 4,
     "metadata": {},
     "output_type": "execute_result"
    }
   ],
   "source": [
    "mkt.shape"
   ]
  },
  {
   "cell_type": "markdown",
   "id": "c9f28717",
   "metadata": {
    "papermill": {
     "duration": 0.091521,
     "end_time": "2022-02-21T08:37:23.280679",
     "exception": false,
     "start_time": "2022-02-21T08:37:23.189158",
     "status": "completed"
    },
    "tags": []
   },
   "source": [
    "# Intial Inspection"
   ]
  },
  {
   "cell_type": "code",
   "execution_count": 5,
   "id": "965852c6",
   "metadata": {
    "execution": {
     "iopub.execute_input": "2022-02-21T08:37:23.466338Z",
     "iopub.status.busy": "2022-02-21T08:37:23.465680Z",
     "iopub.status.idle": "2022-02-21T08:37:23.486361Z",
     "shell.execute_reply": "2022-02-21T08:37:23.486997Z",
     "shell.execute_reply.started": "2022-02-21T05:18:15.157789Z"
    },
    "jupyter": {
     "source_hidden": true
    },
    "papermill": {
     "duration": 0.114689,
     "end_time": "2022-02-21T08:37:23.487203",
     "exception": false,
     "start_time": "2022-02-21T08:37:23.372514",
     "status": "completed"
    },
    "tags": []
   },
   "outputs": [
    {
     "data": {
      "text/html": [
       "<div>\n",
       "<style scoped>\n",
       "    .dataframe tbody tr th:only-of-type {\n",
       "        vertical-align: middle;\n",
       "    }\n",
       "\n",
       "    .dataframe tbody tr th {\n",
       "        vertical-align: top;\n",
       "    }\n",
       "\n",
       "    .dataframe thead th {\n",
       "        text-align: right;\n",
       "    }\n",
       "</style>\n",
       "<table border=\"1\" class=\"dataframe\">\n",
       "  <thead>\n",
       "    <tr style=\"text-align: right;\">\n",
       "      <th></th>\n",
       "      <th>0</th>\n",
       "      <th>1</th>\n",
       "      <th>2</th>\n",
       "      <th>3</th>\n",
       "      <th>4</th>\n",
       "    </tr>\n",
       "  </thead>\n",
       "  <tbody>\n",
       "    <tr>\n",
       "      <th>Invoice ID</th>\n",
       "      <td>750-67-8428</td>\n",
       "      <td>226-31-3081</td>\n",
       "      <td>631-41-3108</td>\n",
       "      <td>123-19-1176</td>\n",
       "      <td>373-73-7910</td>\n",
       "    </tr>\n",
       "    <tr>\n",
       "      <th>Branch</th>\n",
       "      <td>A</td>\n",
       "      <td>C</td>\n",
       "      <td>A</td>\n",
       "      <td>A</td>\n",
       "      <td>A</td>\n",
       "    </tr>\n",
       "    <tr>\n",
       "      <th>City</th>\n",
       "      <td>Yangon</td>\n",
       "      <td>Naypyitaw</td>\n",
       "      <td>Yangon</td>\n",
       "      <td>Yangon</td>\n",
       "      <td>Yangon</td>\n",
       "    </tr>\n",
       "    <tr>\n",
       "      <th>Customer type</th>\n",
       "      <td>Member</td>\n",
       "      <td>Normal</td>\n",
       "      <td>Normal</td>\n",
       "      <td>Member</td>\n",
       "      <td>Normal</td>\n",
       "    </tr>\n",
       "    <tr>\n",
       "      <th>Gender</th>\n",
       "      <td>Female</td>\n",
       "      <td>Female</td>\n",
       "      <td>Male</td>\n",
       "      <td>Male</td>\n",
       "      <td>Male</td>\n",
       "    </tr>\n",
       "    <tr>\n",
       "      <th>Product line</th>\n",
       "      <td>Health and beauty</td>\n",
       "      <td>Electronic accessories</td>\n",
       "      <td>Home and lifestyle</td>\n",
       "      <td>Health and beauty</td>\n",
       "      <td>Sports and travel</td>\n",
       "    </tr>\n",
       "    <tr>\n",
       "      <th>Unit price</th>\n",
       "      <td>74.69</td>\n",
       "      <td>15.28</td>\n",
       "      <td>46.33</td>\n",
       "      <td>58.22</td>\n",
       "      <td>86.31</td>\n",
       "    </tr>\n",
       "    <tr>\n",
       "      <th>Quantity</th>\n",
       "      <td>7</td>\n",
       "      <td>5</td>\n",
       "      <td>7</td>\n",
       "      <td>8</td>\n",
       "      <td>7</td>\n",
       "    </tr>\n",
       "    <tr>\n",
       "      <th>Tax 5%</th>\n",
       "      <td>26.1415</td>\n",
       "      <td>3.82</td>\n",
       "      <td>16.2155</td>\n",
       "      <td>23.288</td>\n",
       "      <td>30.2085</td>\n",
       "    </tr>\n",
       "    <tr>\n",
       "      <th>Total</th>\n",
       "      <td>548.9715</td>\n",
       "      <td>80.22</td>\n",
       "      <td>340.5255</td>\n",
       "      <td>489.048</td>\n",
       "      <td>634.3785</td>\n",
       "    </tr>\n",
       "    <tr>\n",
       "      <th>Date</th>\n",
       "      <td>1/5/2019</td>\n",
       "      <td>3/8/2019</td>\n",
       "      <td>3/3/2019</td>\n",
       "      <td>1/27/2019</td>\n",
       "      <td>2/8/2019</td>\n",
       "    </tr>\n",
       "    <tr>\n",
       "      <th>Time</th>\n",
       "      <td>13:08</td>\n",
       "      <td>10:29</td>\n",
       "      <td>13:23</td>\n",
       "      <td>20:33</td>\n",
       "      <td>10:37</td>\n",
       "    </tr>\n",
       "    <tr>\n",
       "      <th>Payment</th>\n",
       "      <td>Ewallet</td>\n",
       "      <td>Cash</td>\n",
       "      <td>Credit card</td>\n",
       "      <td>Ewallet</td>\n",
       "      <td>Ewallet</td>\n",
       "    </tr>\n",
       "    <tr>\n",
       "      <th>cogs</th>\n",
       "      <td>522.83</td>\n",
       "      <td>76.4</td>\n",
       "      <td>324.31</td>\n",
       "      <td>465.76</td>\n",
       "      <td>604.17</td>\n",
       "    </tr>\n",
       "    <tr>\n",
       "      <th>gross margin percentage</th>\n",
       "      <td>4.761905</td>\n",
       "      <td>4.761905</td>\n",
       "      <td>4.761905</td>\n",
       "      <td>4.761905</td>\n",
       "      <td>4.761905</td>\n",
       "    </tr>\n",
       "    <tr>\n",
       "      <th>gross income</th>\n",
       "      <td>26.1415</td>\n",
       "      <td>3.82</td>\n",
       "      <td>16.2155</td>\n",
       "      <td>23.288</td>\n",
       "      <td>30.2085</td>\n",
       "    </tr>\n",
       "    <tr>\n",
       "      <th>Rating</th>\n",
       "      <td>9.1</td>\n",
       "      <td>9.6</td>\n",
       "      <td>7.4</td>\n",
       "      <td>8.4</td>\n",
       "      <td>5.3</td>\n",
       "    </tr>\n",
       "  </tbody>\n",
       "</table>\n",
       "</div>"
      ],
      "text/plain": [
       "                                         0                       1  \\\n",
       "Invoice ID                     750-67-8428             226-31-3081   \n",
       "Branch                                   A                       C   \n",
       "City                                Yangon               Naypyitaw   \n",
       "Customer type                       Member                  Normal   \n",
       "Gender                              Female                  Female   \n",
       "Product line             Health and beauty  Electronic accessories   \n",
       "Unit price                           74.69                   15.28   \n",
       "Quantity                                 7                       5   \n",
       "Tax 5%                             26.1415                    3.82   \n",
       "Total                             548.9715                   80.22   \n",
       "Date                              1/5/2019                3/8/2019   \n",
       "Time                                 13:08                   10:29   \n",
       "Payment                            Ewallet                    Cash   \n",
       "cogs                                522.83                    76.4   \n",
       "gross margin percentage           4.761905                4.761905   \n",
       "gross income                       26.1415                    3.82   \n",
       "Rating                                 9.1                     9.6   \n",
       "\n",
       "                                          2                  3  \\\n",
       "Invoice ID                      631-41-3108        123-19-1176   \n",
       "Branch                                    A                  A   \n",
       "City                                 Yangon             Yangon   \n",
       "Customer type                        Normal             Member   \n",
       "Gender                                 Male               Male   \n",
       "Product line             Home and lifestyle  Health and beauty   \n",
       "Unit price                            46.33              58.22   \n",
       "Quantity                                  7                  8   \n",
       "Tax 5%                              16.2155             23.288   \n",
       "Total                              340.5255            489.048   \n",
       "Date                               3/3/2019          1/27/2019   \n",
       "Time                                  13:23              20:33   \n",
       "Payment                         Credit card            Ewallet   \n",
       "cogs                                 324.31             465.76   \n",
       "gross margin percentage            4.761905           4.761905   \n",
       "gross income                        16.2155             23.288   \n",
       "Rating                                  7.4                8.4   \n",
       "\n",
       "                                         4  \n",
       "Invoice ID                     373-73-7910  \n",
       "Branch                                   A  \n",
       "City                                Yangon  \n",
       "Customer type                       Normal  \n",
       "Gender                                Male  \n",
       "Product line             Sports and travel  \n",
       "Unit price                           86.31  \n",
       "Quantity                                 7  \n",
       "Tax 5%                             30.2085  \n",
       "Total                             634.3785  \n",
       "Date                              2/8/2019  \n",
       "Time                                 10:37  \n",
       "Payment                            Ewallet  \n",
       "cogs                                604.17  \n",
       "gross margin percentage           4.761905  \n",
       "gross income                       30.2085  \n",
       "Rating                                 5.3  "
      ]
     },
     "execution_count": 5,
     "metadata": {},
     "output_type": "execute_result"
    }
   ],
   "source": [
    "mkt.head().T #checking first five rows of dataframe anf Transpose it for ease of reading"
   ]
  },
  {
   "cell_type": "code",
   "execution_count": 6,
   "id": "897c1bb3",
   "metadata": {
    "execution": {
     "iopub.execute_input": "2022-02-21T08:37:23.676851Z",
     "iopub.status.busy": "2022-02-21T08:37:23.675788Z",
     "iopub.status.idle": "2022-02-21T08:37:23.691161Z",
     "shell.execute_reply": "2022-02-21T08:37:23.691843Z",
     "shell.execute_reply.started": "2022-02-21T05:18:43.674818Z"
    },
    "jupyter": {
     "source_hidden": true
    },
    "papermill": {
     "duration": 0.111796,
     "end_time": "2022-02-21T08:37:23.692023",
     "exception": false,
     "start_time": "2022-02-21T08:37:23.580227",
     "status": "completed"
    },
    "tags": []
   },
   "outputs": [
    {
     "data": {
      "text/html": [
       "<div>\n",
       "<style scoped>\n",
       "    .dataframe tbody tr th:only-of-type {\n",
       "        vertical-align: middle;\n",
       "    }\n",
       "\n",
       "    .dataframe tbody tr th {\n",
       "        vertical-align: top;\n",
       "    }\n",
       "\n",
       "    .dataframe thead th {\n",
       "        text-align: right;\n",
       "    }\n",
       "</style>\n",
       "<table border=\"1\" class=\"dataframe\">\n",
       "  <thead>\n",
       "    <tr style=\"text-align: right;\">\n",
       "      <th></th>\n",
       "      <th>995</th>\n",
       "      <th>996</th>\n",
       "      <th>997</th>\n",
       "      <th>998</th>\n",
       "      <th>999</th>\n",
       "    </tr>\n",
       "  </thead>\n",
       "  <tbody>\n",
       "    <tr>\n",
       "      <th>Invoice ID</th>\n",
       "      <td>233-67-5758</td>\n",
       "      <td>303-96-2227</td>\n",
       "      <td>727-02-1313</td>\n",
       "      <td>347-56-2442</td>\n",
       "      <td>849-09-3807</td>\n",
       "    </tr>\n",
       "    <tr>\n",
       "      <th>Branch</th>\n",
       "      <td>C</td>\n",
       "      <td>B</td>\n",
       "      <td>A</td>\n",
       "      <td>A</td>\n",
       "      <td>A</td>\n",
       "    </tr>\n",
       "    <tr>\n",
       "      <th>City</th>\n",
       "      <td>Naypyitaw</td>\n",
       "      <td>Mandalay</td>\n",
       "      <td>Yangon</td>\n",
       "      <td>Yangon</td>\n",
       "      <td>Yangon</td>\n",
       "    </tr>\n",
       "    <tr>\n",
       "      <th>Customer type</th>\n",
       "      <td>Normal</td>\n",
       "      <td>Normal</td>\n",
       "      <td>Member</td>\n",
       "      <td>Normal</td>\n",
       "      <td>Member</td>\n",
       "    </tr>\n",
       "    <tr>\n",
       "      <th>Gender</th>\n",
       "      <td>Male</td>\n",
       "      <td>Female</td>\n",
       "      <td>Male</td>\n",
       "      <td>Male</td>\n",
       "      <td>Female</td>\n",
       "    </tr>\n",
       "    <tr>\n",
       "      <th>Product line</th>\n",
       "      <td>Health and beauty</td>\n",
       "      <td>Home and lifestyle</td>\n",
       "      <td>Food and beverages</td>\n",
       "      <td>Home and lifestyle</td>\n",
       "      <td>Fashion accessories</td>\n",
       "    </tr>\n",
       "    <tr>\n",
       "      <th>Unit price</th>\n",
       "      <td>40.35</td>\n",
       "      <td>97.38</td>\n",
       "      <td>31.84</td>\n",
       "      <td>65.82</td>\n",
       "      <td>88.34</td>\n",
       "    </tr>\n",
       "    <tr>\n",
       "      <th>Quantity</th>\n",
       "      <td>1</td>\n",
       "      <td>10</td>\n",
       "      <td>1</td>\n",
       "      <td>1</td>\n",
       "      <td>7</td>\n",
       "    </tr>\n",
       "    <tr>\n",
       "      <th>Tax 5%</th>\n",
       "      <td>2.0175</td>\n",
       "      <td>48.69</td>\n",
       "      <td>1.592</td>\n",
       "      <td>3.291</td>\n",
       "      <td>30.919</td>\n",
       "    </tr>\n",
       "    <tr>\n",
       "      <th>Total</th>\n",
       "      <td>42.3675</td>\n",
       "      <td>1022.49</td>\n",
       "      <td>33.432</td>\n",
       "      <td>69.111</td>\n",
       "      <td>649.299</td>\n",
       "    </tr>\n",
       "    <tr>\n",
       "      <th>Date</th>\n",
       "      <td>1/29/2019</td>\n",
       "      <td>3/2/2019</td>\n",
       "      <td>2/9/2019</td>\n",
       "      <td>2/22/2019</td>\n",
       "      <td>2/18/2019</td>\n",
       "    </tr>\n",
       "    <tr>\n",
       "      <th>Time</th>\n",
       "      <td>13:46</td>\n",
       "      <td>17:16</td>\n",
       "      <td>13:22</td>\n",
       "      <td>15:33</td>\n",
       "      <td>13:28</td>\n",
       "    </tr>\n",
       "    <tr>\n",
       "      <th>Payment</th>\n",
       "      <td>Ewallet</td>\n",
       "      <td>Ewallet</td>\n",
       "      <td>Cash</td>\n",
       "      <td>Cash</td>\n",
       "      <td>Cash</td>\n",
       "    </tr>\n",
       "    <tr>\n",
       "      <th>cogs</th>\n",
       "      <td>40.35</td>\n",
       "      <td>973.8</td>\n",
       "      <td>31.84</td>\n",
       "      <td>65.82</td>\n",
       "      <td>618.38</td>\n",
       "    </tr>\n",
       "    <tr>\n",
       "      <th>gross margin percentage</th>\n",
       "      <td>4.761905</td>\n",
       "      <td>4.761905</td>\n",
       "      <td>4.761905</td>\n",
       "      <td>4.761905</td>\n",
       "      <td>4.761905</td>\n",
       "    </tr>\n",
       "    <tr>\n",
       "      <th>gross income</th>\n",
       "      <td>2.0175</td>\n",
       "      <td>48.69</td>\n",
       "      <td>1.592</td>\n",
       "      <td>3.291</td>\n",
       "      <td>30.919</td>\n",
       "    </tr>\n",
       "    <tr>\n",
       "      <th>Rating</th>\n",
       "      <td>6.2</td>\n",
       "      <td>4.4</td>\n",
       "      <td>7.7</td>\n",
       "      <td>4.1</td>\n",
       "      <td>6.6</td>\n",
       "    </tr>\n",
       "  </tbody>\n",
       "</table>\n",
       "</div>"
      ],
      "text/plain": [
       "                                       995                 996  \\\n",
       "Invoice ID                     233-67-5758         303-96-2227   \n",
       "Branch                                   C                   B   \n",
       "City                             Naypyitaw            Mandalay   \n",
       "Customer type                       Normal              Normal   \n",
       "Gender                                Male              Female   \n",
       "Product line             Health and beauty  Home and lifestyle   \n",
       "Unit price                           40.35               97.38   \n",
       "Quantity                                 1                  10   \n",
       "Tax 5%                              2.0175               48.69   \n",
       "Total                              42.3675             1022.49   \n",
       "Date                             1/29/2019            3/2/2019   \n",
       "Time                                 13:46               17:16   \n",
       "Payment                            Ewallet             Ewallet   \n",
       "cogs                                 40.35               973.8   \n",
       "gross margin percentage           4.761905            4.761905   \n",
       "gross income                        2.0175               48.69   \n",
       "Rating                                 6.2                 4.4   \n",
       "\n",
       "                                        997                 998  \\\n",
       "Invoice ID                      727-02-1313         347-56-2442   \n",
       "Branch                                    A                   A   \n",
       "City                                 Yangon              Yangon   \n",
       "Customer type                        Member              Normal   \n",
       "Gender                                 Male                Male   \n",
       "Product line             Food and beverages  Home and lifestyle   \n",
       "Unit price                            31.84               65.82   \n",
       "Quantity                                  1                   1   \n",
       "Tax 5%                                1.592               3.291   \n",
       "Total                                33.432              69.111   \n",
       "Date                               2/9/2019           2/22/2019   \n",
       "Time                                  13:22               15:33   \n",
       "Payment                                Cash                Cash   \n",
       "cogs                                  31.84               65.82   \n",
       "gross margin percentage            4.761905            4.761905   \n",
       "gross income                          1.592               3.291   \n",
       "Rating                                  7.7                 4.1   \n",
       "\n",
       "                                         999  \n",
       "Invoice ID                       849-09-3807  \n",
       "Branch                                     A  \n",
       "City                                  Yangon  \n",
       "Customer type                         Member  \n",
       "Gender                                Female  \n",
       "Product line             Fashion accessories  \n",
       "Unit price                             88.34  \n",
       "Quantity                                   7  \n",
       "Tax 5%                                30.919  \n",
       "Total                                649.299  \n",
       "Date                               2/18/2019  \n",
       "Time                                   13:28  \n",
       "Payment                                 Cash  \n",
       "cogs                                  618.38  \n",
       "gross margin percentage             4.761905  \n",
       "gross income                          30.919  \n",
       "Rating                                   6.6  "
      ]
     },
     "execution_count": 6,
     "metadata": {},
     "output_type": "execute_result"
    }
   ],
   "source": [
    "mkt.tail().T #checking last five rows of dataframe anf Transpose it for ease of reading"
   ]
  },
  {
   "cell_type": "code",
   "execution_count": 7,
   "id": "0cfba428",
   "metadata": {
    "execution": {
     "iopub.execute_input": "2022-02-21T08:37:23.885035Z",
     "iopub.status.busy": "2022-02-21T08:37:23.884010Z",
     "iopub.status.idle": "2022-02-21T08:37:23.914600Z",
     "shell.execute_reply": "2022-02-21T08:37:23.915268Z",
     "shell.execute_reply.started": "2022-02-21T05:44:41.231603Z"
    },
    "jupyter": {
     "source_hidden": true
    },
    "papermill": {
     "duration": 0.130145,
     "end_time": "2022-02-21T08:37:23.915600",
     "exception": false,
     "start_time": "2022-02-21T08:37:23.785455",
     "status": "completed"
    },
    "tags": []
   },
   "outputs": [
    {
     "data": {
      "text/html": [
       "<div>\n",
       "<style scoped>\n",
       "    .dataframe tbody tr th:only-of-type {\n",
       "        vertical-align: middle;\n",
       "    }\n",
       "\n",
       "    .dataframe tbody tr th {\n",
       "        vertical-align: top;\n",
       "    }\n",
       "\n",
       "    .dataframe thead th {\n",
       "        text-align: right;\n",
       "    }\n",
       "</style>\n",
       "<table border=\"1\" class=\"dataframe\">\n",
       "  <thead>\n",
       "    <tr style=\"text-align: right;\">\n",
       "      <th></th>\n",
       "      <th>Invoice ID</th>\n",
       "      <th>Branch</th>\n",
       "      <th>City</th>\n",
       "      <th>Customer type</th>\n",
       "      <th>Gender</th>\n",
       "      <th>Product line</th>\n",
       "      <th>Unit price</th>\n",
       "      <th>Quantity</th>\n",
       "      <th>Tax 5%</th>\n",
       "      <th>Total</th>\n",
       "      <th>Date</th>\n",
       "      <th>Time</th>\n",
       "      <th>Payment</th>\n",
       "      <th>cogs</th>\n",
       "      <th>gross margin percentage</th>\n",
       "      <th>gross income</th>\n",
       "      <th>Rating</th>\n",
       "    </tr>\n",
       "  </thead>\n",
       "  <tbody>\n",
       "    <tr>\n",
       "      <th>69</th>\n",
       "      <td>382-03-4532</td>\n",
       "      <td>A</td>\n",
       "      <td>Yangon</td>\n",
       "      <td>Member</td>\n",
       "      <td>Female</td>\n",
       "      <td>Health and beauty</td>\n",
       "      <td>18.33</td>\n",
       "      <td>1</td>\n",
       "      <td>0.9165</td>\n",
       "      <td>19.2465</td>\n",
       "      <td>2/2/2019</td>\n",
       "      <td>18:50</td>\n",
       "      <td>Cash</td>\n",
       "      <td>18.33</td>\n",
       "      <td>4.761905</td>\n",
       "      <td>0.9165</td>\n",
       "      <td>4.3</td>\n",
       "    </tr>\n",
       "    <tr>\n",
       "      <th>583</th>\n",
       "      <td>359-90-3665</td>\n",
       "      <td>B</td>\n",
       "      <td>Mandalay</td>\n",
       "      <td>Member</td>\n",
       "      <td>Female</td>\n",
       "      <td>Fashion accessories</td>\n",
       "      <td>18.08</td>\n",
       "      <td>4</td>\n",
       "      <td>3.6160</td>\n",
       "      <td>75.9360</td>\n",
       "      <td>1/14/2019</td>\n",
       "      <td>18:03</td>\n",
       "      <td>Credit card</td>\n",
       "      <td>72.32</td>\n",
       "      <td>4.761905</td>\n",
       "      <td>3.6160</td>\n",
       "      <td>9.5</td>\n",
       "    </tr>\n",
       "    <tr>\n",
       "      <th>190</th>\n",
       "      <td>284-34-9626</td>\n",
       "      <td>B</td>\n",
       "      <td>Mandalay</td>\n",
       "      <td>Normal</td>\n",
       "      <td>Female</td>\n",
       "      <td>Home and lifestyle</td>\n",
       "      <td>77.04</td>\n",
       "      <td>3</td>\n",
       "      <td>11.5560</td>\n",
       "      <td>242.6760</td>\n",
       "      <td>2/11/2019</td>\n",
       "      <td>10:39</td>\n",
       "      <td>Credit card</td>\n",
       "      <td>231.12</td>\n",
       "      <td>4.761905</td>\n",
       "      <td>11.5560</td>\n",
       "      <td>7.2</td>\n",
       "    </tr>\n",
       "    <tr>\n",
       "      <th>472</th>\n",
       "      <td>405-31-3305</td>\n",
       "      <td>A</td>\n",
       "      <td>Yangon</td>\n",
       "      <td>Member</td>\n",
       "      <td>Male</td>\n",
       "      <td>Fashion accessories</td>\n",
       "      <td>43.13</td>\n",
       "      <td>10</td>\n",
       "      <td>21.5650</td>\n",
       "      <td>452.8650</td>\n",
       "      <td>2/2/2019</td>\n",
       "      <td>18:31</td>\n",
       "      <td>Credit card</td>\n",
       "      <td>431.30</td>\n",
       "      <td>4.761905</td>\n",
       "      <td>21.5650</td>\n",
       "      <td>5.5</td>\n",
       "    </tr>\n",
       "    <tr>\n",
       "      <th>722</th>\n",
       "      <td>776-68-1096</td>\n",
       "      <td>B</td>\n",
       "      <td>Mandalay</td>\n",
       "      <td>Normal</td>\n",
       "      <td>Male</td>\n",
       "      <td>Home and lifestyle</td>\n",
       "      <td>44.12</td>\n",
       "      <td>3</td>\n",
       "      <td>6.6180</td>\n",
       "      <td>138.9780</td>\n",
       "      <td>3/18/2019</td>\n",
       "      <td>13:45</td>\n",
       "      <td>Credit card</td>\n",
       "      <td>132.36</td>\n",
       "      <td>4.761905</td>\n",
       "      <td>6.6180</td>\n",
       "      <td>7.9</td>\n",
       "    </tr>\n",
       "    <tr>\n",
       "      <th>584</th>\n",
       "      <td>375-72-3056</td>\n",
       "      <td>B</td>\n",
       "      <td>Mandalay</td>\n",
       "      <td>Normal</td>\n",
       "      <td>Male</td>\n",
       "      <td>Sports and travel</td>\n",
       "      <td>63.06</td>\n",
       "      <td>3</td>\n",
       "      <td>9.4590</td>\n",
       "      <td>198.6390</td>\n",
       "      <td>1/19/2019</td>\n",
       "      <td>15:58</td>\n",
       "      <td>Ewallet</td>\n",
       "      <td>189.18</td>\n",
       "      <td>4.761905</td>\n",
       "      <td>9.4590</td>\n",
       "      <td>7.0</td>\n",
       "    </tr>\n",
       "    <tr>\n",
       "      <th>782</th>\n",
       "      <td>307-04-2070</td>\n",
       "      <td>A</td>\n",
       "      <td>Yangon</td>\n",
       "      <td>Member</td>\n",
       "      <td>Female</td>\n",
       "      <td>Fashion accessories</td>\n",
       "      <td>30.62</td>\n",
       "      <td>1</td>\n",
       "      <td>1.5310</td>\n",
       "      <td>32.1510</td>\n",
       "      <td>2/5/2019</td>\n",
       "      <td>14:14</td>\n",
       "      <td>Credit card</td>\n",
       "      <td>30.62</td>\n",
       "      <td>4.761905</td>\n",
       "      <td>1.5310</td>\n",
       "      <td>4.1</td>\n",
       "    </tr>\n",
       "    <tr>\n",
       "      <th>989</th>\n",
       "      <td>430-53-4718</td>\n",
       "      <td>B</td>\n",
       "      <td>Mandalay</td>\n",
       "      <td>Member</td>\n",
       "      <td>Male</td>\n",
       "      <td>Health and beauty</td>\n",
       "      <td>75.37</td>\n",
       "      <td>8</td>\n",
       "      <td>30.1480</td>\n",
       "      <td>633.1080</td>\n",
       "      <td>1/28/2019</td>\n",
       "      <td>15:46</td>\n",
       "      <td>Credit card</td>\n",
       "      <td>602.96</td>\n",
       "      <td>4.761905</td>\n",
       "      <td>30.1480</td>\n",
       "      <td>8.4</td>\n",
       "    </tr>\n",
       "    <tr>\n",
       "      <th>568</th>\n",
       "      <td>241-11-2261</td>\n",
       "      <td>B</td>\n",
       "      <td>Mandalay</td>\n",
       "      <td>Normal</td>\n",
       "      <td>Female</td>\n",
       "      <td>Fashion accessories</td>\n",
       "      <td>79.86</td>\n",
       "      <td>7</td>\n",
       "      <td>27.9510</td>\n",
       "      <td>586.9710</td>\n",
       "      <td>1/10/2019</td>\n",
       "      <td>10:33</td>\n",
       "      <td>Credit card</td>\n",
       "      <td>559.02</td>\n",
       "      <td>4.761905</td>\n",
       "      <td>27.9510</td>\n",
       "      <td>5.5</td>\n",
       "    </tr>\n",
       "    <tr>\n",
       "      <th>798</th>\n",
       "      <td>359-94-5395</td>\n",
       "      <td>B</td>\n",
       "      <td>Mandalay</td>\n",
       "      <td>Normal</td>\n",
       "      <td>Male</td>\n",
       "      <td>Health and beauty</td>\n",
       "      <td>92.78</td>\n",
       "      <td>1</td>\n",
       "      <td>4.6390</td>\n",
       "      <td>97.4190</td>\n",
       "      <td>3/15/2019</td>\n",
       "      <td>10:50</td>\n",
       "      <td>Credit card</td>\n",
       "      <td>92.78</td>\n",
       "      <td>4.761905</td>\n",
       "      <td>4.6390</td>\n",
       "      <td>9.8</td>\n",
       "    </tr>\n",
       "  </tbody>\n",
       "</table>\n",
       "</div>"
      ],
      "text/plain": [
       "      Invoice ID Branch      City Customer type  Gender         Product line  \\\n",
       "69   382-03-4532      A    Yangon        Member  Female    Health and beauty   \n",
       "583  359-90-3665      B  Mandalay        Member  Female  Fashion accessories   \n",
       "190  284-34-9626      B  Mandalay        Normal  Female   Home and lifestyle   \n",
       "472  405-31-3305      A    Yangon        Member    Male  Fashion accessories   \n",
       "722  776-68-1096      B  Mandalay        Normal    Male   Home and lifestyle   \n",
       "584  375-72-3056      B  Mandalay        Normal    Male    Sports and travel   \n",
       "782  307-04-2070      A    Yangon        Member  Female  Fashion accessories   \n",
       "989  430-53-4718      B  Mandalay        Member    Male    Health and beauty   \n",
       "568  241-11-2261      B  Mandalay        Normal  Female  Fashion accessories   \n",
       "798  359-94-5395      B  Mandalay        Normal    Male    Health and beauty   \n",
       "\n",
       "     Unit price  Quantity   Tax 5%     Total       Date   Time      Payment  \\\n",
       "69        18.33         1   0.9165   19.2465   2/2/2019  18:50         Cash   \n",
       "583       18.08         4   3.6160   75.9360  1/14/2019  18:03  Credit card   \n",
       "190       77.04         3  11.5560  242.6760  2/11/2019  10:39  Credit card   \n",
       "472       43.13        10  21.5650  452.8650   2/2/2019  18:31  Credit card   \n",
       "722       44.12         3   6.6180  138.9780  3/18/2019  13:45  Credit card   \n",
       "584       63.06         3   9.4590  198.6390  1/19/2019  15:58      Ewallet   \n",
       "782       30.62         1   1.5310   32.1510   2/5/2019  14:14  Credit card   \n",
       "989       75.37         8  30.1480  633.1080  1/28/2019  15:46  Credit card   \n",
       "568       79.86         7  27.9510  586.9710  1/10/2019  10:33  Credit card   \n",
       "798       92.78         1   4.6390   97.4190  3/15/2019  10:50  Credit card   \n",
       "\n",
       "       cogs  gross margin percentage  gross income  Rating  \n",
       "69    18.33                 4.761905        0.9165     4.3  \n",
       "583   72.32                 4.761905        3.6160     9.5  \n",
       "190  231.12                 4.761905       11.5560     7.2  \n",
       "472  431.30                 4.761905       21.5650     5.5  \n",
       "722  132.36                 4.761905        6.6180     7.9  \n",
       "584  189.18                 4.761905        9.4590     7.0  \n",
       "782   30.62                 4.761905        1.5310     4.1  \n",
       "989  602.96                 4.761905       30.1480     8.4  \n",
       "568  559.02                 4.761905       27.9510     5.5  \n",
       "798   92.78                 4.761905        4.6390     9.8  "
      ]
     },
     "execution_count": 7,
     "metadata": {},
     "output_type": "execute_result"
    }
   ],
   "source": [
    "mkt.sample(10 )"
   ]
  },
  {
   "cell_type": "markdown",
   "id": "839f3c30",
   "metadata": {
    "papermill": {
     "duration": 0.093559,
     "end_time": "2022-02-21T08:37:24.103978",
     "exception": false,
     "start_time": "2022-02-21T08:37:24.010419",
     "status": "completed"
    },
    "tags": []
   },
   "source": [
    "# Basic EDA"
   ]
  },
  {
   "cell_type": "markdown",
   "id": "16e2848a",
   "metadata": {
    "papermill": {
     "duration": 0.094047,
     "end_time": "2022-02-21T08:37:24.292120",
     "exception": false,
     "start_time": "2022-02-21T08:37:24.198073",
     "status": "completed"
    },
    "tags": []
   },
   "source": [
    "# Checking null values"
   ]
  },
  {
   "cell_type": "code",
   "execution_count": 8,
   "id": "8bbf189d",
   "metadata": {
    "execution": {
     "iopub.execute_input": "2022-02-21T08:37:24.488152Z",
     "iopub.status.busy": "2022-02-21T08:37:24.487139Z",
     "iopub.status.idle": "2022-02-21T08:37:24.496537Z",
     "shell.execute_reply": "2022-02-21T08:37:24.497066Z",
     "shell.execute_reply.started": "2022-02-21T05:20:37.176625Z"
    },
    "jupyter": {
     "source_hidden": true
    },
    "papermill": {
     "duration": 0.108362,
     "end_time": "2022-02-21T08:37:24.497238",
     "exception": false,
     "start_time": "2022-02-21T08:37:24.388876",
     "status": "completed"
    },
    "tags": []
   },
   "outputs": [
    {
     "data": {
      "text/plain": [
       "Invoice ID                 0\n",
       "Branch                     0\n",
       "City                       0\n",
       "Customer type              0\n",
       "Gender                     0\n",
       "Product line               0\n",
       "Unit price                 0\n",
       "Quantity                   0\n",
       "Tax 5%                     0\n",
       "Total                      0\n",
       "Date                       0\n",
       "Time                       0\n",
       "Payment                    0\n",
       "cogs                       0\n",
       "gross margin percentage    0\n",
       "gross income               0\n",
       "Rating                     0\n",
       "dtype: int64"
      ]
     },
     "execution_count": 8,
     "metadata": {},
     "output_type": "execute_result"
    }
   ],
   "source": [
    "mkt.isnull().sum()"
   ]
  },
  {
   "cell_type": "code",
   "execution_count": 9,
   "id": "e4be4c6f",
   "metadata": {
    "execution": {
     "iopub.execute_input": "2022-02-21T08:37:24.689465Z",
     "iopub.status.busy": "2022-02-21T08:37:24.688432Z",
     "iopub.status.idle": "2022-02-21T08:37:26.123849Z",
     "shell.execute_reply": "2022-02-21T08:37:26.124417Z",
     "shell.execute_reply.started": "2022-02-21T05:24:52.131597Z"
    },
    "jupyter": {
     "source_hidden": true
    },
    "papermill": {
     "duration": 1.532952,
     "end_time": "2022-02-21T08:37:26.124597",
     "exception": false,
     "start_time": "2022-02-21T08:37:24.591645",
     "status": "completed"
    },
    "tags": []
   },
   "outputs": [
    {
     "data": {
      "image/png": "[encoded data removed]",
      "text/plain": [
       "<Figure size 720x360 with 3 Axes>"
      ]
     },
     "metadata": {
      "needs_background": "light"
     },
     "output_type": "display_data"
    }
   ],
   "source": [
    "msno.bar(mkt,figsize=(10,5), fontsize=12, color=\"tomato\");"
   ]
  },
  {
   "cell_type": "markdown",
   "id": "05164ed6",
   "metadata": {
    "papermill": {
     "duration": 0.098339,
     "end_time": "2022-02-21T08:37:26.320055",
     "exception": false,
     "start_time": "2022-02-21T08:37:26.221716",
     "status": "completed"
    },
    "tags": []
   },
   "source": [
    "# Data types of Each Attribute."
   ]
  },
  {
   "cell_type": "code",
   "execution_count": 10,
   "id": "524b2e7e",
   "metadata": {
    "execution": {
     "iopub.execute_input": "2022-02-21T08:37:26.517675Z",
     "iopub.status.busy": "2022-02-21T08:37:26.517003Z",
     "iopub.status.idle": "2022-02-21T08:37:26.534288Z",
     "shell.execute_reply": "2022-02-21T08:37:26.534872Z",
     "shell.execute_reply.started": "2022-02-21T05:26:35.010530Z"
    },
    "jupyter": {
     "source_hidden": true
    },
    "papermill": {
     "duration": 0.116972,
     "end_time": "2022-02-21T08:37:26.535050",
     "exception": false,
     "start_time": "2022-02-21T08:37:26.418078",
     "status": "completed"
    },
    "tags": []
   },
   "outputs": [
    {
     "name": "stdout",
     "output_type": "stream",
     "text": [
      "<class 'pandas.core.frame.DataFrame'>\n",
      "RangeIndex: 1000 entries, 0 to 999\n",
      "Data columns (total 17 columns):\n",
      " #   Column                   Non-Null Count  Dtype  \n",
      "---  ------                   --------------  -----  \n",
      " 0   Invoice ID               1000 non-null   object \n",
      " 1   Branch                   1000 non-null   object \n",
      " 2   City                     1000 non-null   object \n",
      " 3   Customer type            1000 non-null   object \n",
      " 4   Gender                   1000 non-null   object \n",
      " 5   Product line             1000 non-null   object \n",
      " 6   Unit price               1000 non-null   float64\n",
      " 7   Quantity                 1000 non-null   int64  \n",
      " 8   Tax 5%                   1000 non-null   float64\n",
      " 9   Total                    1000 non-null   float64\n",
      " 10  Date                     1000 non-null   object \n",
      " 11  Time                     1000 non-null   object \n",
      " 12  Payment                  1000 non-null   object \n",
      " 13  cogs                     1000 non-null   float64\n",
      " 14  gross margin percentage  1000 non-null   float64\n",
      " 15  gross income             1000 non-null   float64\n",
      " 16  Rating                   1000 non-null   float64\n",
      "dtypes: float64(7), int64(1), object(9)\n",
      "memory usage: 132.9+ KB\n"
     ]
    }
   ],
   "source": [
    "mkt.info()"
   ]
  },
  {
   "cell_type": "code",
   "execution_count": 11,
   "id": "312a35ba",
   "metadata": {
    "_kg_hide-input": true,
    "execution": {
     "iopub.execute_input": "2022-02-21T08:37:26.729613Z",
     "iopub.status.busy": "2022-02-21T08:37:26.728911Z",
     "iopub.status.idle": "2022-02-21T08:37:26.732119Z",
     "shell.execute_reply": "2022-02-21T08:37:26.732766Z"
    },
    "papermill": {
     "duration": 0.102148,
     "end_time": "2022-02-21T08:37:26.732954",
     "exception": false,
     "start_time": "2022-02-21T08:37:26.630806",
     "status": "completed"
    },
    "scrolled": true,
    "tags": []
   },
   "outputs": [],
   "source": [
    "#Checking for wrong entries like symbols -,?,#,*,etc.\n",
    "# for col in mkt.columns:\n",
    "#     print('{} : {}'.format(col,mkt[col].unique()))"
   ]
  },
  {
   "cell_type": "markdown",
   "id": "d6ac2271",
   "metadata": {
    "papermill": {
     "duration": 0.095323,
     "end_time": "2022-02-21T08:37:26.924285",
     "exception": false,
     "start_time": "2022-02-21T08:37:26.828962",
     "status": "completed"
    },
    "tags": []
   },
   "source": [
    "Observation\n",
    "\n",
    "--------------------------\n",
    "Doesn't find an odd reading."
   ]
  },
  {
   "cell_type": "markdown",
   "id": "906b58ca",
   "metadata": {
    "papermill": {
     "duration": 0.09594,
     "end_time": "2022-02-21T08:37:27.116252",
     "exception": false,
     "start_time": "2022-02-21T08:37:27.020312",
     "status": "completed"
    },
    "tags": []
   },
   "source": [
    "# Unique values in each column"
   ]
  },
  {
   "cell_type": "code",
   "execution_count": 12,
   "id": "94f5af1d",
   "metadata": {
    "execution": {
     "iopub.execute_input": "2022-02-21T08:37:27.316357Z",
     "iopub.status.busy": "2022-02-21T08:37:27.315675Z",
     "iopub.status.idle": "2022-02-21T08:37:27.327466Z",
     "shell.execute_reply": "2022-02-21T08:37:27.326845Z",
     "shell.execute_reply.started": "2022-02-21T05:45:17.834661Z"
    },
    "jupyter": {
     "source_hidden": true
    },
    "papermill": {
     "duration": 0.114313,
     "end_time": "2022-02-21T08:37:27.327627",
     "exception": false,
     "start_time": "2022-02-21T08:37:27.213314",
     "status": "completed"
    },
    "tags": []
   },
   "outputs": [
    {
     "data": {
      "text/plain": [
       "Invoice ID                 1000\n",
       "Branch                        3\n",
       "City                          3\n",
       "Customer type                 2\n",
       "Gender                        2\n",
       "Product line                  6\n",
       "Unit price                  943\n",
       "Quantity                     10\n",
       "Tax 5%                      990\n",
       "Total                       990\n",
       "Date                         89\n",
       "Time                        506\n",
       "Payment                       3\n",
       "cogs                        990\n",
       "gross margin percentage       1\n",
       "gross income                990\n",
       "Rating                       61\n",
       "dtype: int64"
      ]
     },
     "execution_count": 12,
     "metadata": {},
     "output_type": "execute_result"
    }
   ],
   "source": [
    "mkt.nunique( )"
   ]
  },
  {
   "cell_type": "code",
   "execution_count": 13,
   "id": "6e2d0bd9",
   "metadata": {
    "execution": {
     "iopub.execute_input": "2022-02-21T08:37:27.529227Z",
     "iopub.status.busy": "2022-02-21T08:37:27.528172Z",
     "iopub.status.idle": "2022-02-21T08:37:27.534890Z",
     "shell.execute_reply": "2022-02-21T08:37:27.535556Z",
     "shell.execute_reply.started": "2022-02-21T05:53:47.978840Z"
    },
    "jupyter": {
     "source_hidden": true
    },
    "papermill": {
     "duration": 0.108428,
     "end_time": "2022-02-21T08:37:27.535728",
     "exception": false,
     "start_time": "2022-02-21T08:37:27.427300",
     "status": "completed"
    },
    "tags": []
   },
   "outputs": [
    {
     "data": {
      "text/plain": [
       "Index(['Invoice ID', 'Branch', 'City', 'Customer type', 'Gender',\n",
       "       'Product line', 'Unit price', 'Quantity', 'Tax 5%', 'Total', 'Date',\n",
       "       'Time', 'Payment', 'cogs', 'gross margin percentage', 'gross income',\n",
       "       'Rating'],\n",
       "      dtype='object')"
      ]
     },
     "execution_count": 13,
     "metadata": {},
     "output_type": "execute_result"
    }
   ],
   "source": [
    "mkt.columns"
   ]
  },
  {
   "cell_type": "markdown",
   "id": "c21c2085",
   "metadata": {
    "papermill": {
     "duration": 0.09856,
     "end_time": "2022-02-21T08:37:27.733061",
     "exception": false,
     "start_time": "2022-02-21T08:37:27.634501",
     "status": "completed"
    },
    "tags": []
   },
   "source": [
    "# Changing data type of features "
   ]
  },
  {
   "cell_type": "code",
   "execution_count": 14,
   "id": "e094d1c8",
   "metadata": {
    "execution": {
     "iopub.execute_input": "2022-02-21T08:37:27.934053Z",
     "iopub.status.busy": "2022-02-21T08:37:27.932920Z",
     "iopub.status.idle": "2022-02-21T08:37:27.944082Z",
     "shell.execute_reply": "2022-02-21T08:37:27.944691Z",
     "shell.execute_reply.started": "2022-02-21T05:56:17.986742Z"
    },
    "jupyter": {
     "source_hidden": true
    },
    "papermill": {
     "duration": 0.113537,
     "end_time": "2022-02-21T08:37:27.944887",
     "exception": false,
     "start_time": "2022-02-21T08:37:27.831350",
     "status": "completed"
    },
    "tags": []
   },
   "outputs": [],
   "source": [
    "for col in[ 'Branch', 'City', 'Customer type', 'Gender',\n",
    "       'Product line', 'Payment']:\n",
    "    mkt[col] = mkt[col].astype('category')#coverting date itno category type"
   ]
  },
  {
   "cell_type": "code",
   "execution_count": 15,
   "id": "98c51948",
   "metadata": {
    "execution": {
     "iopub.execute_input": "2022-02-21T08:37:28.143464Z",
     "iopub.status.busy": "2022-02-21T08:37:28.142407Z",
     "iopub.status.idle": "2022-02-21T08:37:28.162572Z",
     "shell.execute_reply": "2022-02-21T08:37:28.161860Z",
     "shell.execute_reply.started": "2022-02-21T05:58:15.231005Z"
    },
    "jupyter": {
     "source_hidden": true
    },
    "papermill": {
     "duration": 0.120525,
     "end_time": "2022-02-21T08:37:28.162734",
     "exception": false,
     "start_time": "2022-02-21T08:37:28.042209",
     "status": "completed"
    },
    "tags": []
   },
   "outputs": [],
   "source": [
    "mkt['Date'] = pd.to_datetime(mkt['Date'])#coverting date itno datetime"
   ]
  },
  {
   "cell_type": "code",
   "execution_count": 16,
   "id": "bcfbcaba",
   "metadata": {
    "execution": {
     "iopub.execute_input": "2022-02-21T08:37:28.366537Z",
     "iopub.status.busy": "2022-02-21T08:37:28.365298Z",
     "iopub.status.idle": "2022-02-21T08:37:28.636099Z",
     "shell.execute_reply": "2022-02-21T08:37:28.635553Z",
     "shell.execute_reply.started": "2022-02-21T05:58:19.349336Z"
    },
    "jupyter": {
     "source_hidden": true
    },
    "papermill": {
     "duration": 0.37553,
     "end_time": "2022-02-21T08:37:28.636252",
     "exception": false,
     "start_time": "2022-02-21T08:37:28.260722",
     "status": "completed"
    },
    "tags": []
   },
   "outputs": [
    {
     "data": {
      "text/plain": [
       "<AxesSubplot:>"
      ]
     },
     "execution_count": 16,
     "metadata": {},
     "output_type": "execute_result"
    },
    {
     "data": {
      "image/png": "[encoded data removed]",
      "text/plain": [
       "<Figure size 432x288 with 1 Axes>"
      ]
     },
     "metadata": {
      "needs_background": "light"
     },
     "output_type": "display_data"
    }
   ],
   "source": [
    "mkt.dtypes.value_counts().plot(kind='bar')"
   ]
  },
  {
   "cell_type": "markdown",
   "id": "fca2bfdc",
   "metadata": {
    "papermill": {
     "duration": 0.09866,
     "end_time": "2022-02-21T08:37:28.833560",
     "exception": false,
     "start_time": "2022-02-21T08:37:28.734900",
     "status": "completed"
    },
    "tags": []
   },
   "source": [
    "# Duplicated Values in dataset"
   ]
  },
  {
   "cell_type": "code",
   "execution_count": 17,
   "id": "46ee8ef1",
   "metadata": {
    "execution": {
     "iopub.execute_input": "2022-02-21T08:37:29.037742Z",
     "iopub.status.busy": "2022-02-21T08:37:29.036685Z",
     "iopub.status.idle": "2022-02-21T08:37:29.048998Z",
     "shell.execute_reply": "2022-02-21T08:37:29.049667Z",
     "shell.execute_reply.started": "2022-02-21T06:00:17.195145Z"
    },
    "jupyter": {
     "source_hidden": true
    },
    "papermill": {
     "duration": 0.116105,
     "end_time": "2022-02-21T08:37:29.049852",
     "exception": false,
     "start_time": "2022-02-21T08:37:28.933747",
     "status": "completed"
    },
    "tags": []
   },
   "outputs": [
    {
     "data": {
      "text/plain": [
       "0"
      ]
     },
     "execution_count": 17,
     "metadata": {},
     "output_type": "execute_result"
    }
   ],
   "source": [
    " mkt.duplicated().sum()"
   ]
  },
  {
   "cell_type": "markdown",
   "id": "b812e648",
   "metadata": {
    "papermill": {
     "duration": 0.099012,
     "end_time": "2022-02-21T08:37:29.247448",
     "exception": false,
     "start_time": "2022-02-21T08:37:29.148436",
     "status": "completed"
    },
    "tags": []
   },
   "source": [
    "# Statistcal Summary of Data Set"
   ]
  },
  {
   "cell_type": "code",
   "execution_count": 18,
   "id": "a037449a",
   "metadata": {
    "execution": {
     "iopub.execute_input": "2022-02-21T08:37:29.464373Z",
     "iopub.status.busy": "2022-02-21T08:37:29.463689Z",
     "iopub.status.idle": "2022-02-21T08:37:29.498609Z",
     "shell.execute_reply": "2022-02-21T08:37:29.499193Z",
     "shell.execute_reply.started": "2022-02-21T06:02:14.627132Z"
    },
    "jupyter": {
     "source_hidden": true
    },
    "papermill": {
     "duration": 0.145755,
     "end_time": "2022-02-21T08:37:29.499434",
     "exception": false,
     "start_time": "2022-02-21T08:37:29.353679",
     "status": "completed"
    },
    "tags": []
   },
   "outputs": [
    {
     "data": {
      "text/html": [
       "<div>\n",
       "<style scoped>\n",
       "    .dataframe tbody tr th:only-of-type {\n",
       "        vertical-align: middle;\n",
       "    }\n",
       "\n",
       "    .dataframe tbody tr th {\n",
       "        vertical-align: top;\n",
       "    }\n",
       "\n",
       "    .dataframe thead th {\n",
       "        text-align: right;\n",
       "    }\n",
       "</style>\n",
       "<table border=\"1\" class=\"dataframe\">\n",
       "  <thead>\n",
       "    <tr style=\"text-align: right;\">\n",
       "      <th></th>\n",
       "      <th>Unit price</th>\n",
       "      <th>Quantity</th>\n",
       "      <th>Tax 5%</th>\n",
       "      <th>Total</th>\n",
       "      <th>cogs</th>\n",
       "      <th>gross margin percentage</th>\n",
       "      <th>gross income</th>\n",
       "      <th>Rating</th>\n",
       "    </tr>\n",
       "  </thead>\n",
       "  <tbody>\n",
       "    <tr>\n",
       "      <th>count</th>\n",
       "      <td>1000.000000</td>\n",
       "      <td>1000.000000</td>\n",
       "      <td>1000.000000</td>\n",
       "      <td>1000.000000</td>\n",
       "      <td>1000.00000</td>\n",
       "      <td>1.000000e+03</td>\n",
       "      <td>1000.000000</td>\n",
       "      <td>1000.00000</td>\n",
       "    </tr>\n",
       "    <tr>\n",
       "      <th>mean</th>\n",
       "      <td>55.672130</td>\n",
       "      <td>5.510000</td>\n",
       "      <td>15.379369</td>\n",
       "      <td>322.966749</td>\n",
       "      <td>307.58738</td>\n",
       "      <td>4.761905e+00</td>\n",
       "      <td>15.379369</td>\n",
       "      <td>6.97270</td>\n",
       "    </tr>\n",
       "    <tr>\n",
       "      <th>std</th>\n",
       "      <td>26.494628</td>\n",
       "      <td>2.923431</td>\n",
       "      <td>11.708825</td>\n",
       "      <td>245.885335</td>\n",
       "      <td>234.17651</td>\n",
       "      <td>6.131498e-14</td>\n",
       "      <td>11.708825</td>\n",
       "      <td>1.71858</td>\n",
       "    </tr>\n",
       "    <tr>\n",
       "      <th>min</th>\n",
       "      <td>10.080000</td>\n",
       "      <td>1.000000</td>\n",
       "      <td>0.508500</td>\n",
       "      <td>10.678500</td>\n",
       "      <td>10.17000</td>\n",
       "      <td>4.761905e+00</td>\n",
       "      <td>0.508500</td>\n",
       "      <td>4.00000</td>\n",
       "    </tr>\n",
       "    <tr>\n",
       "      <th>25%</th>\n",
       "      <td>32.875000</td>\n",
       "      <td>3.000000</td>\n",
       "      <td>5.924875</td>\n",
       "      <td>124.422375</td>\n",
       "      <td>118.49750</td>\n",
       "      <td>4.761905e+00</td>\n",
       "      <td>5.924875</td>\n",
       "      <td>5.50000</td>\n",
       "    </tr>\n",
       "    <tr>\n",
       "      <th>50%</th>\n",
       "      <td>55.230000</td>\n",
       "      <td>5.000000</td>\n",
       "      <td>12.088000</td>\n",
       "      <td>253.848000</td>\n",
       "      <td>241.76000</td>\n",
       "      <td>4.761905e+00</td>\n",
       "      <td>12.088000</td>\n",
       "      <td>7.00000</td>\n",
       "    </tr>\n",
       "    <tr>\n",
       "      <th>75%</th>\n",
       "      <td>77.935000</td>\n",
       "      <td>8.000000</td>\n",
       "      <td>22.445250</td>\n",
       "      <td>471.350250</td>\n",
       "      <td>448.90500</td>\n",
       "      <td>4.761905e+00</td>\n",
       "      <td>22.445250</td>\n",
       "      <td>8.50000</td>\n",
       "    </tr>\n",
       "    <tr>\n",
       "      <th>max</th>\n",
       "      <td>99.960000</td>\n",
       "      <td>10.000000</td>\n",
       "      <td>49.650000</td>\n",
       "      <td>1042.650000</td>\n",
       "      <td>993.00000</td>\n",
       "      <td>4.761905e+00</td>\n",
       "      <td>49.650000</td>\n",
       "      <td>10.00000</td>\n",
       "    </tr>\n",
       "  </tbody>\n",
       "</table>\n",
       "</div>"
      ],
      "text/plain": [
       "        Unit price     Quantity       Tax 5%        Total        cogs  \\\n",
       "count  1000.000000  1000.000000  1000.000000  1000.000000  1000.00000   \n",
       "mean     55.672130     5.510000    15.379369   322.966749   307.58738   \n",
       "std      26.494628     2.923431    11.708825   245.885335   234.17651   \n",
       "min      10.080000     1.000000     0.508500    10.678500    10.17000   \n",
       "25%      32.875000     3.000000     5.924875   124.422375   118.49750   \n",
       "50%      55.230000     5.000000    12.088000   253.848000   241.76000   \n",
       "75%      77.935000     8.000000    22.445250   471.350250   448.90500   \n",
       "max      99.960000    10.000000    49.650000  1042.650000   993.00000   \n",
       "\n",
       "       gross margin percentage  gross income      Rating  \n",
       "count             1.000000e+03   1000.000000  1000.00000  \n",
       "mean              4.761905e+00     15.379369     6.97270  \n",
       "std               6.131498e-14     11.708825     1.71858  \n",
       "min               4.761905e+00      0.508500     4.00000  \n",
       "25%               4.761905e+00      5.924875     5.50000  \n",
       "50%               4.761905e+00     12.088000     7.00000  \n",
       "75%               4.761905e+00     22.445250     8.50000  \n",
       "max               4.761905e+00     49.650000    10.00000  "
      ]
     },
     "execution_count": 18,
     "metadata": {},
     "output_type": "execute_result"
    }
   ],
   "source": [
    "mkt.describe()#numerical"
   ]
  },
  {
   "cell_type": "code",
   "execution_count": 19,
   "id": "1b93030d",
   "metadata": {
    "execution": {
     "iopub.execute_input": "2022-02-21T08:37:29.706348Z",
     "iopub.status.busy": "2022-02-21T08:37:29.705640Z",
     "iopub.status.idle": "2022-02-21T08:37:29.735089Z",
     "shell.execute_reply": "2022-02-21T08:37:29.734552Z",
     "shell.execute_reply.started": "2022-02-21T06:28:22.118599Z"
    },
    "jupyter": {
     "source_hidden": true
    },
    "papermill": {
     "duration": 0.134734,
     "end_time": "2022-02-21T08:37:29.735242",
     "exception": false,
     "start_time": "2022-02-21T08:37:29.600508",
     "status": "completed"
    },
    "tags": []
   },
   "outputs": [
    {
     "data": {
      "text/html": [
       "<div>\n",
       "<style scoped>\n",
       "    .dataframe tbody tr th:only-of-type {\n",
       "        vertical-align: middle;\n",
       "    }\n",
       "\n",
       "    .dataframe tbody tr th {\n",
       "        vertical-align: top;\n",
       "    }\n",
       "\n",
       "    .dataframe thead th {\n",
       "        text-align: right;\n",
       "    }\n",
       "</style>\n",
       "<table border=\"1\" class=\"dataframe\">\n",
       "  <thead>\n",
       "    <tr style=\"text-align: right;\">\n",
       "      <th></th>\n",
       "      <th>Invoice ID</th>\n",
       "      <th>Branch</th>\n",
       "      <th>City</th>\n",
       "      <th>Customer type</th>\n",
       "      <th>Gender</th>\n",
       "      <th>Product line</th>\n",
       "      <th>Time</th>\n",
       "      <th>Payment</th>\n",
       "    </tr>\n",
       "  </thead>\n",
       "  <tbody>\n",
       "    <tr>\n",
       "      <th>count</th>\n",
       "      <td>1000</td>\n",
       "      <td>1000</td>\n",
       "      <td>1000</td>\n",
       "      <td>1000</td>\n",
       "      <td>1000</td>\n",
       "      <td>1000</td>\n",
       "      <td>1000</td>\n",
       "      <td>1000</td>\n",
       "    </tr>\n",
       "    <tr>\n",
       "      <th>unique</th>\n",
       "      <td>1000</td>\n",
       "      <td>3</td>\n",
       "      <td>3</td>\n",
       "      <td>2</td>\n",
       "      <td>2</td>\n",
       "      <td>6</td>\n",
       "      <td>506</td>\n",
       "      <td>3</td>\n",
       "    </tr>\n",
       "    <tr>\n",
       "      <th>top</th>\n",
       "      <td>750-67-8428</td>\n",
       "      <td>A</td>\n",
       "      <td>Yangon</td>\n",
       "      <td>Member</td>\n",
       "      <td>Female</td>\n",
       "      <td>Fashion accessories</td>\n",
       "      <td>19:48</td>\n",
       "      <td>Ewallet</td>\n",
       "    </tr>\n",
       "    <tr>\n",
       "      <th>freq</th>\n",
       "      <td>1</td>\n",
       "      <td>340</td>\n",
       "      <td>340</td>\n",
       "      <td>501</td>\n",
       "      <td>501</td>\n",
       "      <td>178</td>\n",
       "      <td>7</td>\n",
       "      <td>345</td>\n",
       "    </tr>\n",
       "  </tbody>\n",
       "</table>\n",
       "</div>"
      ],
      "text/plain": [
       "         Invoice ID Branch    City Customer type  Gender         Product line  \\\n",
       "count          1000   1000    1000          1000    1000                 1000   \n",
       "unique         1000      3       3             2       2                    6   \n",
       "top     750-67-8428      A  Yangon        Member  Female  Fashion accessories   \n",
       "freq              1    340     340           501     501                  178   \n",
       "\n",
       "         Time  Payment  \n",
       "count    1000     1000  \n",
       "unique    506        3  \n",
       "top     19:48  Ewallet  \n",
       "freq        7      345  "
      ]
     },
     "execution_count": 19,
     "metadata": {},
     "output_type": "execute_result"
    }
   ],
   "source": [
    "mkt.describe(include=['category','object'])#categorical"
   ]
  },
  {
   "cell_type": "code",
   "execution_count": 20,
   "id": "10096425",
   "metadata": {
    "execution": {
     "iopub.execute_input": "2022-02-21T08:37:29.944390Z",
     "iopub.status.busy": "2022-02-21T08:37:29.939806Z",
     "iopub.status.idle": "2022-02-21T08:37:29.948315Z",
     "shell.execute_reply": "2022-02-21T08:37:29.948926Z",
     "shell.execute_reply.started": "2022-02-21T06:22:51.456196Z"
    },
    "jupyter": {
     "source_hidden": true
    },
    "papermill": {
     "duration": 0.11363,
     "end_time": "2022-02-21T08:37:29.949115",
     "exception": false,
     "start_time": "2022-02-21T08:37:29.835485",
     "status": "completed"
    },
    "tags": []
   },
   "outputs": [
    {
     "data": {
      "text/plain": [
       "count                          1000\n",
       "mean     2019-02-14 00:05:45.600000\n",
       "min             2019-01-01 00:00:00\n",
       "25%             2019-01-24 00:00:00\n",
       "50%             2019-02-13 00:00:00\n",
       "75%             2019-03-08 00:00:00\n",
       "max             2019-03-30 00:00:00\n",
       "Name: Date, dtype: object"
      ]
     },
     "execution_count": 20,
     "metadata": {},
     "output_type": "execute_result"
    }
   ],
   "source": [
    "mkt.Date.describe(datetime_is_numeric=True).T#datetime"
   ]
  },
  {
   "cell_type": "markdown",
   "id": "b60c7988",
   "metadata": {
    "papermill": {
     "duration": 0.100774,
     "end_time": "2022-02-21T08:37:30.149703",
     "exception": false,
     "start_time": "2022-02-21T08:37:30.048929",
     "status": "completed"
    },
    "tags": []
   },
   "source": [
    "# Feature Creation"
   ]
  },
  {
   "cell_type": "code",
   "execution_count": 21,
   "id": "edc5f00b",
   "metadata": {
    "execution": {
     "iopub.execute_input": "2022-02-21T08:37:30.355696Z",
     "iopub.status.busy": "2022-02-21T08:37:30.354976Z",
     "iopub.status.idle": "2022-02-21T08:37:30.364670Z",
     "shell.execute_reply": "2022-02-21T08:37:30.365255Z",
     "shell.execute_reply.started": "2022-02-21T06:27:39.785051Z"
    },
    "papermill": {
     "duration": 0.114786,
     "end_time": "2022-02-21T08:37:30.365506",
     "exception": false,
     "start_time": "2022-02-21T08:37:30.250720",
     "status": "completed"
    },
    "tags": []
   },
   "outputs": [],
   "source": [
    "mkt['weekday'] = mkt['Date'].dt.day_name()#creating a weakday column from Date column\n",
    "mkt[['Hour', 'Minute']] = mkt['Time'].str.split(':', expand=True)#spliting a half Time column itno Hour and Minute"
   ]
  },
  {
   "cell_type": "markdown",
   "id": "709d41d1",
   "metadata": {
    "papermill": {
     "duration": 0.09956,
     "end_time": "2022-02-21T08:37:30.567466",
     "exception": false,
     "start_time": "2022-02-21T08:37:30.467906",
     "status": "completed"
    },
    "tags": []
   },
   "source": [
    "# Correlations "
   ]
  },
  {
   "cell_type": "code",
   "execution_count": 22,
   "id": "0982e802",
   "metadata": {
    "execution": {
     "iopub.execute_input": "2022-02-21T08:37:30.773915Z",
     "iopub.status.busy": "2022-02-21T08:37:30.770384Z",
     "iopub.status.idle": "2022-02-21T08:37:30.787639Z",
     "shell.execute_reply": "2022-02-21T08:37:30.788278Z",
     "shell.execute_reply.started": "2022-02-21T06:29:17.720689Z"
    },
    "jupyter": {
     "source_hidden": true
    },
    "papermill": {
     "duration": 0.120859,
     "end_time": "2022-02-21T08:37:30.788493",
     "exception": false,
     "start_time": "2022-02-21T08:37:30.667634",
     "status": "completed"
    },
    "tags": []
   },
   "outputs": [
    {
     "data": {
      "text/html": [
       "<div>\n",
       "<style scoped>\n",
       "    .dataframe tbody tr th:only-of-type {\n",
       "        vertical-align: middle;\n",
       "    }\n",
       "\n",
       "    .dataframe tbody tr th {\n",
       "        vertical-align: top;\n",
       "    }\n",
       "\n",
       "    .dataframe thead th {\n",
       "        text-align: right;\n",
       "    }\n",
       "</style>\n",
       "<table border=\"1\" class=\"dataframe\">\n",
       "  <thead>\n",
       "    <tr style=\"text-align: right;\">\n",
       "      <th></th>\n",
       "      <th>Unit price</th>\n",
       "      <th>Quantity</th>\n",
       "      <th>Tax 5%</th>\n",
       "      <th>Total</th>\n",
       "      <th>cogs</th>\n",
       "      <th>gross margin percentage</th>\n",
       "      <th>gross income</th>\n",
       "      <th>Rating</th>\n",
       "    </tr>\n",
       "  </thead>\n",
       "  <tbody>\n",
       "    <tr>\n",
       "      <th>Unit price</th>\n",
       "      <td>1.000000</td>\n",
       "      <td>0.010778</td>\n",
       "      <td>0.633962</td>\n",
       "      <td>0.633962</td>\n",
       "      <td>0.633962</td>\n",
       "      <td>NaN</td>\n",
       "      <td>0.633962</td>\n",
       "      <td>-0.008778</td>\n",
       "    </tr>\n",
       "    <tr>\n",
       "      <th>Quantity</th>\n",
       "      <td>0.010778</td>\n",
       "      <td>1.000000</td>\n",
       "      <td>0.705510</td>\n",
       "      <td>0.705510</td>\n",
       "      <td>0.705510</td>\n",
       "      <td>NaN</td>\n",
       "      <td>0.705510</td>\n",
       "      <td>-0.015815</td>\n",
       "    </tr>\n",
       "    <tr>\n",
       "      <th>Tax 5%</th>\n",
       "      <td>0.633962</td>\n",
       "      <td>0.705510</td>\n",
       "      <td>1.000000</td>\n",
       "      <td>1.000000</td>\n",
       "      <td>1.000000</td>\n",
       "      <td>NaN</td>\n",
       "      <td>1.000000</td>\n",
       "      <td>-0.036442</td>\n",
       "    </tr>\n",
       "    <tr>\n",
       "      <th>Total</th>\n",
       "      <td>0.633962</td>\n",
       "      <td>0.705510</td>\n",
       "      <td>1.000000</td>\n",
       "      <td>1.000000</td>\n",
       "      <td>1.000000</td>\n",
       "      <td>NaN</td>\n",
       "      <td>1.000000</td>\n",
       "      <td>-0.036442</td>\n",
       "    </tr>\n",
       "    <tr>\n",
       "      <th>cogs</th>\n",
       "      <td>0.633962</td>\n",
       "      <td>0.705510</td>\n",
       "      <td>1.000000</td>\n",
       "      <td>1.000000</td>\n",
       "      <td>1.000000</td>\n",
       "      <td>NaN</td>\n",
       "      <td>1.000000</td>\n",
       "      <td>-0.036442</td>\n",
       "    </tr>\n",
       "    <tr>\n",
       "      <th>gross margin percentage</th>\n",
       "      <td>NaN</td>\n",
       "      <td>NaN</td>\n",
       "      <td>NaN</td>\n",
       "      <td>NaN</td>\n",
       "      <td>NaN</td>\n",
       "      <td>NaN</td>\n",
       "      <td>NaN</td>\n",
       "      <td>NaN</td>\n",
       "    </tr>\n",
       "    <tr>\n",
       "      <th>gross income</th>\n",
       "      <td>0.633962</td>\n",
       "      <td>0.705510</td>\n",
       "      <td>1.000000</td>\n",
       "      <td>1.000000</td>\n",
       "      <td>1.000000</td>\n",
       "      <td>NaN</td>\n",
       "      <td>1.000000</td>\n",
       "      <td>-0.036442</td>\n",
       "    </tr>\n",
       "    <tr>\n",
       "      <th>Rating</th>\n",
       "      <td>-0.008778</td>\n",
       "      <td>-0.015815</td>\n",
       "      <td>-0.036442</td>\n",
       "      <td>-0.036442</td>\n",
       "      <td>-0.036442</td>\n",
       "      <td>NaN</td>\n",
       "      <td>-0.036442</td>\n",
       "      <td>1.000000</td>\n",
       "    </tr>\n",
       "  </tbody>\n",
       "</table>\n",
       "</div>"
      ],
      "text/plain": [
       "                         Unit price  Quantity    Tax 5%     Total      cogs  \\\n",
       "Unit price                 1.000000  0.010778  0.633962  0.633962  0.633962   \n",
       "Quantity                   0.010778  1.000000  0.705510  0.705510  0.705510   \n",
       "Tax 5%                     0.633962  0.705510  1.000000  1.000000  1.000000   \n",
       "Total                      0.633962  0.705510  1.000000  1.000000  1.000000   \n",
       "cogs                       0.633962  0.705510  1.000000  1.000000  1.000000   \n",
       "gross margin percentage         NaN       NaN       NaN       NaN       NaN   \n",
       "gross income               0.633962  0.705510  1.000000  1.000000  1.000000   \n",
       "Rating                    -0.008778 -0.015815 -0.036442 -0.036442 -0.036442   \n",
       "\n",
       "                         gross margin percentage  gross income    Rating  \n",
       "Unit price                                   NaN      0.633962 -0.008778  \n",
       "Quantity                                     NaN      0.705510 -0.015815  \n",
       "Tax 5%                                       NaN      1.000000 -0.036442  \n",
       "Total                                        NaN      1.000000 -0.036442  \n",
       "cogs                                         NaN      1.000000 -0.036442  \n",
       "gross margin percentage                      NaN           NaN       NaN  \n",
       "gross income                                 NaN      1.000000 -0.036442  \n",
       "Rating                                       NaN     -0.036442  1.000000  "
      ]
     },
     "execution_count": 22,
     "metadata": {},
     "output_type": "execute_result"
    }
   ],
   "source": [
    "mkt.corr()"
   ]
  },
  {
   "cell_type": "markdown",
   "id": "fde27f9a",
   "metadata": {
    "papermill": {
     "duration": 0.100686,
     "end_time": "2022-02-21T08:37:30.990609",
     "exception": false,
     "start_time": "2022-02-21T08:37:30.889923",
     "status": "completed"
    },
    "tags": []
   },
   "source": [
    "# Distrubution of numerical varriable"
   ]
  },
  {
   "cell_type": "code",
   "execution_count": 23,
   "id": "4cf65437",
   "metadata": {
    "collapsed": true,
    "execution": {
     "iopub.execute_input": "2022-02-21T08:37:31.197770Z",
     "iopub.status.busy": "2022-02-21T08:37:31.197021Z",
     "iopub.status.idle": "2022-02-21T08:37:31.200224Z",
     "shell.execute_reply": "2022-02-21T08:37:31.199684Z",
     "shell.execute_reply.started": "2022-02-21T06:32:08.141057Z"
    },
    "jupyter": {
     "outputs_hidden": true,
     "source_hidden": true
    },
    "papermill": {
     "duration": 0.108592,
     "end_time": "2022-02-21T08:37:31.200424",
     "exception": false,
     "start_time": "2022-02-21T08:37:31.091832",
     "status": "completed"
    },
    "scrolled": true,
    "tags": []
   },
   "outputs": [],
   "source": [
    "# df1 = mkt.select_dtypes(include=['int64','float64'])\n",
    "# for i, col in enumerate(df1.columns):\n",
    "#     plt.figure(i)\n",
    "#     plt.figure() #this creates a new figure on which your plot will appear\n",
    "#     sns.histplot(x=col, data=df1,palette=\"Set3\",kde=True,bins=15)\n",
    "#     plt.show()"
   ]
  },
  {
   "cell_type": "code",
   "execution_count": 24,
   "id": "c1d90f20",
   "metadata": {
    "execution": {
     "iopub.execute_input": "2022-02-21T08:37:31.411742Z",
     "iopub.status.busy": "2022-02-21T08:37:31.411026Z",
     "iopub.status.idle": "2022-02-21T08:37:31.860220Z",
     "shell.execute_reply": "2022-02-21T08:37:31.860813Z",
     "shell.execute_reply.started": "2022-02-21T06:37:34.923267Z"
    },
    "papermill": {
     "duration": 0.558333,
     "end_time": "2022-02-21T08:37:31.861001",
     "exception": false,
     "start_time": "2022-02-21T08:37:31.302668",
     "status": "completed"
    },
    "tags": []
   },
   "outputs": [
    {
     "data": {
      "image/png": "[encoded data removed]",
      "text/plain": [
       "<Figure size 432x288 with 1 Axes>"
      ]
     },
     "metadata": {
      "needs_background": "light"
     },
     "output_type": "display_data"
    }
   ],
   "source": [
    "sns.histplot(mkt['Rating'], kde=True, color='red', bins=50)\n",
    "plt.title('Rating Distribution', fontsize=18)\n",
    "plt.xlabel('Rating', fontsize=16)\n",
    "plt.ylabel('Count', fontsize=16)\n",
    "plt.axvline(x=mkt.Rating.mean(),color='green',label='mean')\n",
    "plt.axvline(x=mkt.Rating.median(),color='blue',ls='--',lw=2.5,label='medain')\n",
    "plt.legend()\n",
    "plt.show()"
   ]
  },
  {
   "cell_type": "code",
   "execution_count": 25,
   "id": "6b7bb6ae",
   "metadata": {
    "execution": {
     "iopub.execute_input": "2022-02-21T08:37:32.071561Z",
     "iopub.status.busy": "2022-02-21T08:37:32.070829Z",
     "iopub.status.idle": "2022-02-21T08:37:32.541904Z",
     "shell.execute_reply": "2022-02-21T08:37:32.542474Z",
     "shell.execute_reply.started": "2022-02-21T06:39:38.850545Z"
    },
    "jupyter": {
     "source_hidden": true
    },
    "papermill": {
     "duration": 0.578298,
     "end_time": "2022-02-21T08:37:32.542656",
     "exception": false,
     "start_time": "2022-02-21T08:37:31.964358",
     "status": "completed"
    },
    "tags": []
   },
   "outputs": [
    {
     "data": {
      "image/png": "[encoded data removed]",
      "text/plain": [
       "<Figure size 432x288 with 1 Axes>"
      ]
     },
     "metadata": {
      "needs_background": "light"
     },
     "output_type": "display_data"
    }
   ],
   "source": [
    "sns.histplot(mkt['gross income'], kde=True, color='red', bins=50)\n",
    "plt.title('gross income Distribution', fontsize=18)\n",
    "plt.xlabel('gross income', fontsize=16)\n",
    "plt.ylabel('Count', fontsize=16)\n",
    "plt.axvline(x=mkt['gross income'].mean(),color='green',label='mean')\n",
    "plt.axvline(x=mkt['gross income'].median(),color='blue',ls='--',lw=2.5,label='medain')\n",
    "plt.legend()\n",
    "plt.show()"
   ]
  },
  {
   "cell_type": "code",
   "execution_count": 26,
   "id": "1eac96e0",
   "metadata": {
    "execution": {
     "iopub.execute_input": "2022-02-21T08:37:32.756190Z",
     "iopub.status.busy": "2022-02-21T08:37:32.755097Z",
     "iopub.status.idle": "2022-02-21T08:37:33.182934Z",
     "shell.execute_reply": "2022-02-21T08:37:33.182176Z",
     "shell.execute_reply.started": "2022-02-21T06:40:37.276294Z"
    },
    "jupyter": {
     "source_hidden": true
    },
    "papermill": {
     "duration": 0.536315,
     "end_time": "2022-02-21T08:37:33.183091",
     "exception": false,
     "start_time": "2022-02-21T08:37:32.646776",
     "status": "completed"
    },
    "tags": []
   },
   "outputs": [
    {
     "data": {
      "image/png": "[encoded data removed]",
      "text/plain": [
       "<Figure size 432x288 with 1 Axes>"
      ]
     },
     "metadata": {
      "needs_background": "light"
     },
     "output_type": "display_data"
    }
   ],
   "source": [
    "sns.histplot(mkt['Unit price'], kde=True, color='red', bins=50)\n",
    "plt.title('Unit price Distribution', fontsize=18)\n",
    "plt.xlabel('Unit price', fontsize=16)\n",
    "plt.ylabel('Count', fontsize=16)\n",
    "plt.axvline(x=mkt['Unit price'].mean(),color='green',label='mean')\n",
    "plt.axvline(x=mkt['Unit price'].median(),color='blue',ls='--',lw=2.5,label='medain')\n",
    "plt.legend()\n",
    "plt.show()"
   ]
  },
  {
   "cell_type": "code",
   "execution_count": 27,
   "id": "dac1f78f",
   "metadata": {
    "execution": {
     "iopub.execute_input": "2022-02-21T08:37:33.558047Z",
     "iopub.status.busy": "2022-02-21T08:37:33.550355Z",
     "iopub.status.idle": "2022-02-21T08:37:33.844693Z",
     "shell.execute_reply": "2022-02-21T08:37:33.843690Z",
     "shell.execute_reply.started": "2022-02-21T06:45:10.547027Z"
    },
    "jupyter": {
     "source_hidden": true
    },
    "papermill": {
     "duration": 0.555129,
     "end_time": "2022-02-21T08:37:33.844848",
     "exception": false,
     "start_time": "2022-02-21T08:37:33.289719",
     "status": "completed"
    },
    "tags": []
   },
   "outputs": [
    {
     "data": {
      "image/png": "[encoded data removed]",
      "text/plain": [
       "<Figure size 432x288 with 1 Axes>"
      ]
     },
     "metadata": {
      "needs_background": "light"
     },
     "output_type": "display_data"
    }
   ],
   "source": [
    "sns.histplot(mkt['Quantity'], kde=True, color='red', bins=10)\n",
    "plt.title('Quantity Distribution', fontsize=18)\n",
    "plt.xlabel('Quantity', fontsize=16)\n",
    "plt.ylabel('Count', fontsize=16)\n",
    "plt.axvline(x=mkt['Quantity'].mean(),color='green',label='mean')\n",
    "plt.axvline(x=mkt['Quantity'].median(),color='blue',ls='--',lw=2.5,label='medain')\n",
    "plt.legend()\n",
    "plt.show()"
   ]
  },
  {
   "cell_type": "code",
   "execution_count": 28,
   "id": "c41e4ffd",
   "metadata": {
    "execution": {
     "iopub.execute_input": "2022-02-21T08:37:34.095800Z",
     "iopub.status.busy": "2022-02-21T08:37:34.093113Z",
     "iopub.status.idle": "2022-02-21T08:37:34.396941Z",
     "shell.execute_reply": "2022-02-21T08:37:34.397522Z",
     "shell.execute_reply.started": "2022-02-21T06:42:41.067945Z"
    },
    "jupyter": {
     "source_hidden": true
    },
    "papermill": {
     "duration": 0.445775,
     "end_time": "2022-02-21T08:37:34.397707",
     "exception": false,
     "start_time": "2022-02-21T08:37:33.951932",
     "status": "completed"
    },
    "tags": []
   },
   "outputs": [
    {
     "data": {
      "image/png": "[encoded data removed]",
      "text/plain": [
       "<Figure size 432x288 with 1 Axes>"
      ]
     },
     "metadata": {
      "needs_background": "light"
     },
     "output_type": "display_data"
    }
   ],
   "source": [
    "sns.histplot(mkt['Total'], kde=True, color='red', bins=15)\n",
    "plt.title('Total Distribution', fontsize=18)\n",
    "plt.xlabel('Total', fontsize=16)\n",
    "plt.ylabel('Count', fontsize=16)\n",
    "plt.axvline(x=mkt['Total'].mean(),color='green',label='mean')\n",
    "plt.axvline(x=mkt['Total'].median(),color='blue',ls='--',lw=2.5,label='medain')\n",
    "plt.legend()\n",
    "plt.show()"
   ]
  },
  {
   "cell_type": "code",
   "execution_count": 29,
   "id": "499b958b",
   "metadata": {
    "execution": {
     "iopub.execute_input": "2022-02-21T08:37:34.625056Z",
     "iopub.status.busy": "2022-02-21T08:37:34.619266Z",
     "iopub.status.idle": "2022-02-21T08:37:34.956957Z",
     "shell.execute_reply": "2022-02-21T08:37:34.957550Z",
     "shell.execute_reply.started": "2022-02-21T06:43:49.114029Z"
    },
    "jupyter": {
     "source_hidden": true
    },
    "papermill": {
     "duration": 0.45003,
     "end_time": "2022-02-21T08:37:34.957751",
     "exception": false,
     "start_time": "2022-02-21T08:37:34.507721",
     "status": "completed"
    },
    "tags": []
   },
   "outputs": [
    {
     "data": {
      "image/png": "[encoded data removed]",
      "text/plain": [
       "<Figure size 432x288 with 1 Axes>"
      ]
     },
     "metadata": {
      "needs_background": "light"
     },
     "output_type": "display_data"
    }
   ],
   "source": [
    "sns.histplot(mkt['cogs'], kde=True, color='red', bins=15)\n",
    "plt.title('cogs Distribution', fontsize=18)\n",
    "plt.xlabel('cogs', fontsize=16)\n",
    "plt.ylabel('Count', fontsize=16)\n",
    "plt.axvline(x=mkt['cogs'].mean(),color='green',label='mean')\n",
    "plt.axvline(x=mkt['cogs'].median(),color='blue',ls='--',lw=2.5,label='medain')\n",
    "plt.legend()\n",
    "plt.show()"
   ]
  },
  {
   "cell_type": "code",
   "execution_count": 30,
   "id": "2286d54c",
   "metadata": {
    "execution": {
     "iopub.execute_input": "2022-02-21T08:37:35.182954Z",
     "iopub.status.busy": "2022-02-21T08:37:35.182162Z",
     "iopub.status.idle": "2022-02-21T08:37:35.526095Z",
     "shell.execute_reply": "2022-02-21T08:37:35.525411Z",
     "shell.execute_reply.started": "2022-02-21T06:46:57.327676Z"
    },
    "jupyter": {
     "source_hidden": true
    },
    "papermill": {
     "duration": 0.456986,
     "end_time": "2022-02-21T08:37:35.526248",
     "exception": false,
     "start_time": "2022-02-21T08:37:35.069262",
     "status": "completed"
    },
    "tags": []
   },
   "outputs": [
    {
     "data": {
      "image/png": "[encoded data removed]",
      "text/plain": [
       "<Figure size 432x288 with 1 Axes>"
      ]
     },
     "metadata": {
      "needs_background": "light"
     },
     "output_type": "display_data"
    }
   ],
   "source": [
    "sns.histplot(mkt['Tax 5%'], kde=True, color='red', bins=15)\n",
    "plt.title('Tax 5% Distribution', fontsize=18)\n",
    "plt.xlabel('Tax 5%', fontsize=16)\n",
    "plt.ylabel('Tax 5%', fontsize=16)\n",
    "plt.axvline(x=mkt['Tax 5%'].mean(),color='green',label='mean')\n",
    "plt.axvline(x=mkt['Tax 5%'].median(),color='blue',ls='--',lw=2.5,label='medain')\n",
    "plt.legend()\n",
    "plt.show()"
   ]
  },
  {
   "cell_type": "markdown",
   "id": "7eb048d1",
   "metadata": {
    "papermill": {
     "duration": 0.111184,
     "end_time": "2022-02-21T08:37:35.748618",
     "exception": false,
     "start_time": "2022-02-21T08:37:35.637434",
     "status": "completed"
    },
    "tags": []
   },
   "source": [
    "# Outliers in numerical varriable"
   ]
  },
  {
   "cell_type": "code",
   "execution_count": 31,
   "id": "b7f6a5cc",
   "metadata": {
    "execution": {
     "iopub.execute_input": "2022-02-21T08:37:35.977992Z",
     "iopub.status.busy": "2022-02-21T08:37:35.977243Z",
     "iopub.status.idle": "2022-02-21T08:37:36.164133Z",
     "shell.execute_reply": "2022-02-21T08:37:36.164737Z",
     "shell.execute_reply.started": "2022-02-21T06:51:13.381239Z"
    },
    "jupyter": {
     "source_hidden": true
    },
    "papermill": {
     "duration": 0.303206,
     "end_time": "2022-02-21T08:37:36.164929",
     "exception": false,
     "start_time": "2022-02-21T08:37:35.861723",
     "status": "completed"
    },
    "tags": []
   },
   "outputs": [
    {
     "name": "stderr",
     "output_type": "stream",
     "text": [
      "/opt/conda/lib/python3.7/site-packages/seaborn/_decorators.py:43: FutureWarning: Pass the following variable as a keyword arg: x. From version 0.12, the only valid positional argument will be `data`, and passing other arguments without an explicit keyword will result in an error or misinterpretation.\n",
      "  FutureWarning\n"
     ]
    },
    {
     "data": {
      "image/png": "[encoded data removed]",
      "text/plain": [
       "<Figure size 432x288 with 1 Axes>"
      ]
     },
     "metadata": {
      "needs_background": "light"
     },
     "output_type": "display_data"
    }
   ],
   "source": [
    "sns.boxplot(mkt['Rating'], color='red')\n",
    "plt.title('Rating ', fontsize=18)\n",
    "plt.xlabel('Rating', fontsize=16)\n",
    "plt.show()"
   ]
  },
  {
   "cell_type": "code",
   "execution_count": 32,
   "id": "0290a544",
   "metadata": {
    "execution": {
     "iopub.execute_input": "2022-02-21T08:37:36.393610Z",
     "iopub.status.busy": "2022-02-21T08:37:36.392831Z",
     "iopub.status.idle": "2022-02-21T08:37:36.572892Z",
     "shell.execute_reply": "2022-02-21T08:37:36.573486Z",
     "shell.execute_reply.started": "2022-02-21T06:53:52.975452Z"
    },
    "jupyter": {
     "source_hidden": true
    },
    "papermill": {
     "duration": 0.297519,
     "end_time": "2022-02-21T08:37:36.573688",
     "exception": false,
     "start_time": "2022-02-21T08:37:36.276169",
     "status": "completed"
    },
    "tags": []
   },
   "outputs": [
    {
     "name": "stderr",
     "output_type": "stream",
     "text": [
      "/opt/conda/lib/python3.7/site-packages/seaborn/_decorators.py:43: FutureWarning: Pass the following variable as a keyword arg: x. From version 0.12, the only valid positional argument will be `data`, and passing other arguments without an explicit keyword will result in an error or misinterpretation.\n",
      "  FutureWarning\n"
     ]
    },
    {
     "data": {
      "image/png": "[encoded data removed]",
      "text/plain": [
       "<Figure size 432x288 with 1 Axes>"
      ]
     },
     "metadata": {
      "needs_background": "light"
     },
     "output_type": "display_data"
    }
   ],
   "source": [
    "sns.boxplot(mkt['gross income'], color='red')\n",
    "plt.title('gross income', fontsize=18)\n",
    "plt.xlabel('gross income', fontsize=16)\n",
    "plt.show()"
   ]
  },
  {
   "cell_type": "code",
   "execution_count": 33,
   "id": "2199f59d",
   "metadata": {
    "execution": {
     "iopub.execute_input": "2022-02-21T08:37:36.805253Z",
     "iopub.status.busy": "2022-02-21T08:37:36.804188Z",
     "iopub.status.idle": "2022-02-21T08:37:36.976679Z",
     "shell.execute_reply": "2022-02-21T08:37:36.977590Z",
     "shell.execute_reply.started": "2022-02-21T06:54:56.810967Z"
    },
    "jupyter": {
     "source_hidden": true
    },
    "papermill": {
     "duration": 0.290446,
     "end_time": "2022-02-21T08:37:36.977881",
     "exception": false,
     "start_time": "2022-02-21T08:37:36.687435",
     "status": "completed"
    },
    "tags": []
   },
   "outputs": [
    {
     "name": "stderr",
     "output_type": "stream",
     "text": [
      "/opt/conda/lib/python3.7/site-packages/seaborn/_decorators.py:43: FutureWarning: Pass the following variable as a keyword arg: x. From version 0.12, the only valid positional argument will be `data`, and passing other arguments without an explicit keyword will result in an error or misinterpretation.\n",
      "  FutureWarning\n"
     ]
    },
    {
     "data": {
      "image/png": "[encoded data removed]",
      "text/plain": [
       "<Figure size 432x288 with 1 Axes>"
      ]
     },
     "metadata": {
      "needs_background": "light"
     },
     "output_type": "display_data"
    }
   ],
   "source": [
    "sns.boxplot(mkt['Unit price'], color='red')\n",
    "plt.title('Unit price', fontsize=18)\n",
    "plt.xlabel('Unit price', fontsize=16)\n",
    "plt.show()"
   ]
  },
  {
   "cell_type": "code",
   "execution_count": 34,
   "id": "61ae9124",
   "metadata": {
    "execution": {
     "iopub.execute_input": "2022-02-21T08:37:37.211216Z",
     "iopub.status.busy": "2022-02-21T08:37:37.210172Z",
     "iopub.status.idle": "2022-02-21T08:37:37.387200Z",
     "shell.execute_reply": "2022-02-21T08:37:37.387887Z",
     "shell.execute_reply.started": "2022-02-21T06:57:03.725826Z"
    },
    "jupyter": {
     "source_hidden": true
    },
    "papermill": {
     "duration": 0.295919,
     "end_time": "2022-02-21T08:37:37.388088",
     "exception": false,
     "start_time": "2022-02-21T08:37:37.092169",
     "status": "completed"
    },
    "tags": []
   },
   "outputs": [
    {
     "name": "stderr",
     "output_type": "stream",
     "text": [
      "/opt/conda/lib/python3.7/site-packages/seaborn/_decorators.py:43: FutureWarning: Pass the following variable as a keyword arg: x. From version 0.12, the only valid positional argument will be `data`, and passing other arguments without an explicit keyword will result in an error or misinterpretation.\n",
      "  FutureWarning\n"
     ]
    },
    {
     "data": {
      "image/png": "[encoded data removed]",
      "text/plain": [
       "<Figure size 432x288 with 1 Axes>"
      ]
     },
     "metadata": {
      "needs_background": "light"
     },
     "output_type": "display_data"
    }
   ],
   "source": [
    "sns.boxplot(mkt['Quantity'], color='red')\n",
    "plt.title('Quantity', fontsize=18)\n",
    "plt.xlabel('Quantity', fontsize=16)\n",
    "plt.axvline(x=mkt['Quantity'].mean(),color='green',label='mean')\n",
    "plt.axvline(x=mkt['Quantity'].median(),color='blue',ls='--',lw=2.5,label='medain')\n",
    "plt.show()"
   ]
  },
  {
   "cell_type": "code",
   "execution_count": 35,
   "id": "f36d2dc0",
   "metadata": {
    "execution": {
     "iopub.execute_input": "2022-02-21T08:37:37.627231Z",
     "iopub.status.busy": "2022-02-21T08:37:37.626143Z",
     "iopub.status.idle": "2022-02-21T08:37:37.805814Z",
     "shell.execute_reply": "2022-02-21T08:37:37.806371Z",
     "shell.execute_reply.started": "2022-02-21T06:59:03.342091Z"
    },
    "jupyter": {
     "source_hidden": true
    },
    "papermill": {
     "duration": 0.300875,
     "end_time": "2022-02-21T08:37:37.806551",
     "exception": false,
     "start_time": "2022-02-21T08:37:37.505676",
     "status": "completed"
    },
    "tags": []
   },
   "outputs": [
    {
     "name": "stderr",
     "output_type": "stream",
     "text": [
      "/opt/conda/lib/python3.7/site-packages/seaborn/_decorators.py:43: FutureWarning: Pass the following variable as a keyword arg: x. From version 0.12, the only valid positional argument will be `data`, and passing other arguments without an explicit keyword will result in an error or misinterpretation.\n",
      "  FutureWarning\n"
     ]
    },
    {
     "data": {
      "image/png": "[encoded data removed]",
      "text/plain": [
       "<Figure size 432x288 with 1 Axes>"
      ]
     },
     "metadata": {
      "needs_background": "light"
     },
     "output_type": "display_data"
    }
   ],
   "source": [
    "sns.boxplot(mkt['Total'], color='red')\n",
    "plt.title('Total', fontsize=18)\n",
    "plt.xlabel('Total', fontsize=16)\n",
    "plt.show()"
   ]
  },
  {
   "cell_type": "code",
   "execution_count": 36,
   "id": "d5ea798c",
   "metadata": {
    "execution": {
     "iopub.execute_input": "2022-02-21T08:37:38.044037Z",
     "iopub.status.busy": "2022-02-21T08:37:38.042978Z",
     "iopub.status.idle": "2022-02-21T08:37:38.218614Z",
     "shell.execute_reply": "2022-02-21T08:37:38.218020Z",
     "shell.execute_reply.started": "2022-02-21T07:00:07.690209Z"
    },
    "jupyter": {
     "source_hidden": true
    },
    "papermill": {
     "duration": 0.295358,
     "end_time": "2022-02-21T08:37:38.218769",
     "exception": false,
     "start_time": "2022-02-21T08:37:37.923411",
     "status": "completed"
    },
    "tags": []
   },
   "outputs": [
    {
     "name": "stderr",
     "output_type": "stream",
     "text": [
      "/opt/conda/lib/python3.7/site-packages/seaborn/_decorators.py:43: FutureWarning: Pass the following variable as a keyword arg: x. From version 0.12, the only valid positional argument will be `data`, and passing other arguments without an explicit keyword will result in an error or misinterpretation.\n",
      "  FutureWarning\n"
     ]
    },
    {
     "data": {
      "image/png": "[encoded data removed]",
      "text/plain": [
       "<Figure size 432x288 with 1 Axes>"
      ]
     },
     "metadata": {
      "needs_background": "light"
     },
     "output_type": "display_data"
    }
   ],
   "source": [
    "sns.boxplot(mkt['cogs'], color='red')\n",
    "plt.title('cogs', fontsize=18)\n",
    "plt.xlabel('cogs', fontsize=16)\n",
    "plt.show()"
   ]
  },
  {
   "cell_type": "code",
   "execution_count": 37,
   "id": "3882cb08",
   "metadata": {
    "execution": {
     "iopub.execute_input": "2022-02-21T08:37:38.459313Z",
     "iopub.status.busy": "2022-02-21T08:37:38.458647Z",
     "iopub.status.idle": "2022-02-21T08:37:38.636369Z",
     "shell.execute_reply": "2022-02-21T08:37:38.635654Z",
     "shell.execute_reply.started": "2022-02-21T07:00:58.075294Z"
    },
    "jupyter": {
     "source_hidden": true
    },
    "papermill": {
     "duration": 0.299467,
     "end_time": "2022-02-21T08:37:38.636554",
     "exception": false,
     "start_time": "2022-02-21T08:37:38.337087",
     "status": "completed"
    },
    "tags": []
   },
   "outputs": [
    {
     "name": "stderr",
     "output_type": "stream",
     "text": [
      "/opt/conda/lib/python3.7/site-packages/seaborn/_decorators.py:43: FutureWarning: Pass the following variable as a keyword arg: x. From version 0.12, the only valid positional argument will be `data`, and passing other arguments without an explicit keyword will result in an error or misinterpretation.\n",
      "  FutureWarning\n"
     ]
    },
    {
     "data": {
      "image/png": "[encoded data removed]",
      "text/plain": [
       "<Figure size 432x288 with 1 Axes>"
      ]
     },
     "metadata": {
      "needs_background": "light"
     },
     "output_type": "display_data"
    }
   ],
   "source": [
    "sns.boxplot(mkt['Tax 5%'], color='red')\n",
    "plt.title('Tax 5%', fontsize=18)\n",
    "plt.xlabel('Tax 5%', fontsize=16)\n",
    "plt.show()"
   ]
  },
  {
   "cell_type": "markdown",
   "id": "054767a0",
   "metadata": {
    "papermill": {
     "duration": 0.118664,
     "end_time": "2022-02-21T08:37:38.876084",
     "exception": false,
     "start_time": "2022-02-21T08:37:38.757420",
     "status": "completed"
    },
    "tags": []
   },
   "source": [
    "# Is your supermarket more popular with males or females?"
   ]
  },
  {
   "cell_type": "markdown",
   "id": "7881b825",
   "metadata": {
    "papermill": {
     "duration": 0.124902,
     "end_time": "2022-02-21T08:37:39.123462",
     "exception": false,
     "start_time": "2022-02-21T08:37:38.998560",
     "status": "completed"
    },
    "tags": []
   },
   "source": [
    "## On basis of Gender Count"
   ]
  },
  {
   "cell_type": "code",
   "execution_count": 38,
   "id": "6475b1bd",
   "metadata": {
    "execution": {
     "iopub.execute_input": "2022-02-21T08:37:39.373016Z",
     "iopub.status.busy": "2022-02-21T08:37:39.371950Z",
     "iopub.status.idle": "2022-02-21T08:37:39.557242Z",
     "shell.execute_reply": "2022-02-21T08:37:39.556557Z",
     "shell.execute_reply.started": "2022-02-21T07:12:52.547745Z"
    },
    "jupyter": {
     "source_hidden": true
    },
    "papermill": {
     "duration": 0.31376,
     "end_time": "2022-02-21T08:37:39.557413",
     "exception": false,
     "start_time": "2022-02-21T08:37:39.243653",
     "status": "completed"
    },
    "tags": []
   },
   "outputs": [
    {
     "data": {
      "image/png": "[encoded data removed]",
      "text/plain": [
       "<Figure size 432x288 with 1 Axes>"
      ]
     },
     "metadata": {
      "needs_background": "light"
     },
     "output_type": "display_data"
    }
   ],
   "source": [
    "sns.countplot(x=\"Gender\", data=mkt);"
   ]
  },
  {
   "cell_type": "markdown",
   "id": "e90a97a3",
   "metadata": {
    "papermill": {
     "duration": 0.119037,
     "end_time": "2022-02-21T08:37:39.799064",
     "exception": false,
     "start_time": "2022-02-21T08:37:39.680027",
     "status": "completed"
    },
    "tags": []
   },
   "source": [
    "## On basis of rating given by different Gender"
   ]
  },
  {
   "cell_type": "code",
   "execution_count": 39,
   "id": "5f0f050c",
   "metadata": {
    "execution": {
     "iopub.execute_input": "2022-02-21T08:37:40.045397Z",
     "iopub.status.busy": "2022-02-21T08:37:40.044241Z",
     "iopub.status.idle": "2022-02-21T08:37:40.337976Z",
     "shell.execute_reply": "2022-02-21T08:37:40.338551Z",
     "shell.execute_reply.started": "2022-02-21T07:13:38.691768Z"
    },
    "jupyter": {
     "source_hidden": true
    },
    "papermill": {
     "duration": 0.421199,
     "end_time": "2022-02-21T08:37:40.338737",
     "exception": false,
     "start_time": "2022-02-21T08:37:39.917538",
     "status": "completed"
    },
    "tags": []
   },
   "outputs": [
    {
     "data": {
      "image/png": "[encoded data removed]",
      "text/plain": [
       "<Figure size 432x288 with 1 Axes>"
      ]
     },
     "metadata": {
      "needs_background": "light"
     },
     "output_type": "display_data"
    }
   ],
   "source": [
    "sns.histplot(data=mkt, x=\"Rating\", hue=\"Gender\", multiple=\"stack\",element=\"poly\",stat=\"density\",bins=15);"
   ]
  },
  {
   "cell_type": "markdown",
   "id": "40e2e709",
   "metadata": {
    "papermill": {
     "duration": 0.119861,
     "end_time": "2022-02-21T08:37:40.579714",
     "exception": false,
     "start_time": "2022-02-21T08:37:40.459853",
     "status": "completed"
    },
    "tags": []
   },
   "source": [
    "# What does the customer rating look like and can you also comment on its skewness?"
   ]
  },
  {
   "cell_type": "code",
   "execution_count": 40,
   "id": "de00cda1",
   "metadata": {
    "execution": {
     "iopub.execute_input": "2022-02-21T08:37:40.845562Z",
     "iopub.status.busy": "2022-02-21T08:37:40.844315Z",
     "iopub.status.idle": "2022-02-21T08:37:41.256590Z",
     "shell.execute_reply": "2022-02-21T08:37:41.257141Z",
     "shell.execute_reply.started": "2022-02-21T07:18:41.414204Z"
    },
    "jupyter": {
     "source_hidden": true
    },
    "papermill": {
     "duration": 0.558168,
     "end_time": "2022-02-21T08:37:41.257319",
     "exception": false,
     "start_time": "2022-02-21T08:37:40.699151",
     "status": "completed"
    },
    "tags": []
   },
   "outputs": [
    {
     "data": {
      "image/png": "[encoded data removed]",
      "text/plain": [
       "<Figure size 432x288 with 1 Axes>"
      ]
     },
     "metadata": {
      "needs_background": "light"
     },
     "output_type": "display_data"
    }
   ],
   "source": [
    "sns.histplot(mkt['Rating'], kde=True, color='red', bins=50)\n",
    "plt.title('Rating Distribution', fontsize=18)\n",
    "plt.xlabel('Rating', fontsize=16)\n",
    "plt.ylabel('Count', fontsize=16)\n",
    "plt.axvline(x=mkt.Rating.mean(),color='green',label='mean')\n",
    "plt.axvline(x=mkt.Rating.median(),color='blue',ls='--',lw=2.5,label='medain')\n",
    "plt.legend()\n",
    "plt.show()"
   ]
  },
  {
   "cell_type": "code",
   "execution_count": 41,
   "id": "81210009",
   "metadata": {
    "execution": {
     "iopub.execute_input": "2022-02-21T08:37:41.505410Z",
     "iopub.status.busy": "2022-02-21T08:37:41.504689Z",
     "iopub.status.idle": "2022-02-21T08:37:41.510521Z",
     "shell.execute_reply": "2022-02-21T08:37:41.511172Z",
     "shell.execute_reply.started": "2022-02-21T07:19:17.788042Z"
    },
    "papermill": {
     "duration": 0.132143,
     "end_time": "2022-02-21T08:37:41.511370",
     "exception": false,
     "start_time": "2022-02-21T08:37:41.379227",
     "status": "completed"
    },
    "tags": []
   },
   "outputs": [
    {
     "data": {
      "text/plain": [
       "0.00900964876573073"
      ]
     },
     "execution_count": 41,
     "metadata": {},
     "output_type": "execute_result"
    }
   ],
   "source": [
    "mkt.Rating.skew()"
   ]
  },
  {
   "cell_type": "markdown",
   "id": "683d1a39",
   "metadata": {
    "papermill": {
     "duration": 0.122341,
     "end_time": "2022-02-21T08:37:41.756776",
     "exception": false,
     "start_time": "2022-02-21T08:37:41.634435",
     "status": "completed"
    },
    "tags": []
   },
   "source": [
    "Observation\n",
    "\n",
    "-----------------------------------\n",
    " 1. Equally distributed\n",
    " 2. no skewness\n",
    "     - mean and mode are equall\n",
    "     - skewness value is also low"
   ]
  },
  {
   "cell_type": "markdown",
   "id": "c936cb9d",
   "metadata": {
    "papermill": {
     "duration": 0.12256,
     "end_time": "2022-02-21T08:37:42.001095",
     "exception": false,
     "start_time": "2022-02-21T08:37:41.878535",
     "status": "completed"
    },
    "tags": []
   },
   "source": [
    "# What can you say about the aggregate sales across the branches?"
   ]
  },
  {
   "cell_type": "code",
   "execution_count": 42,
   "id": "247d459a",
   "metadata": {
    "execution": {
     "iopub.execute_input": "2022-02-21T08:37:42.248522Z",
     "iopub.status.busy": "2022-02-21T08:37:42.247805Z",
     "iopub.status.idle": "2022-02-21T08:37:42.588680Z",
     "shell.execute_reply": "2022-02-21T08:37:42.589340Z",
     "shell.execute_reply.started": "2022-02-21T07:25:07.632210Z"
    },
    "papermill": {
     "duration": 0.466433,
     "end_time": "2022-02-21T08:37:42.589532",
     "exception": false,
     "start_time": "2022-02-21T08:37:42.123099",
     "status": "completed"
    },
    "tags": []
   },
   "outputs": [
    {
     "data": {
      "image/png": "[encoded data removed]",
      "text/plain": [
       "<Figure size 432x288 with 1 Axes>"
      ]
     },
     "metadata": {
      "needs_background": "light"
     },
     "output_type": "display_data"
    }
   ],
   "source": [
    "sns.barplot(x=\"Branch\", y=\"Total\", data=mkt);"
   ]
  },
  {
   "cell_type": "markdown",
   "id": "a51fcd4e",
   "metadata": {
    "papermill": {
     "duration": 0.121712,
     "end_time": "2022-02-21T08:37:42.833857",
     "exception": false,
     "start_time": "2022-02-21T08:37:42.712145",
     "status": "completed"
    },
    "tags": []
   },
   "source": [
    "Observation\n",
    "\n",
    "----------------------------\n",
    "\n",
    "1. Branch C is clear winner\n",
    "2. Branch A is lagging behind"
   ]
  },
  {
   "cell_type": "markdown",
   "id": "f6070dfc",
   "metadata": {
    "papermill": {
     "duration": 0.127505,
     "end_time": "2022-02-21T08:37:43.085551",
     "exception": false,
     "start_time": "2022-02-21T08:37:42.958046",
     "status": "completed"
    },
    "tags": []
   },
   "source": [
    "# Which is the most popular payment method used by customers?"
   ]
  },
  {
   "cell_type": "code",
   "execution_count": 43,
   "id": "6eb2df19",
   "metadata": {
    "execution": {
     "iopub.execute_input": "2022-02-21T08:37:43.338203Z",
     "iopub.status.busy": "2022-02-21T08:37:43.337061Z",
     "iopub.status.idle": "2022-02-21T08:37:43.555928Z",
     "shell.execute_reply": "2022-02-21T08:37:43.556495Z",
     "shell.execute_reply.started": "2022-02-21T07:28:45.348371Z"
    },
    "papermill": {
     "duration": 0.347732,
     "end_time": "2022-02-21T08:37:43.556686",
     "exception": false,
     "start_time": "2022-02-21T08:37:43.208954",
     "status": "completed"
    },
    "tags": []
   },
   "outputs": [
    {
     "data": {
      "image/png": "[encoded data removed]",
      "text/plain": [
       "<Figure size 432x288 with 1 Axes>"
      ]
     },
     "metadata": {
      "needs_background": "light"
     },
     "output_type": "display_data"
    }
   ],
   "source": [
    "sns.countplot(x=\"Payment\", data=mkt,order = mkt['Payment'].value_counts().index);"
   ]
  },
  {
   "cell_type": "markdown",
   "id": "5763bb29",
   "metadata": {
    "papermill": {
     "duration": 0.123133,
     "end_time": "2022-02-21T08:37:43.804307",
     "exception": false,
     "start_time": "2022-02-21T08:37:43.681174",
     "status": "completed"
    },
    "tags": []
   },
   "source": [
    "Observation\n",
    "\n",
    "-----------------------\n",
    "\n",
    "- E-wallet and cash payment both are popular among customers."
   ]
  },
  {
   "cell_type": "markdown",
   "id": "8781317f",
   "metadata": {
    "papermill": {
     "duration": 0.122907,
     "end_time": "2022-02-21T08:37:44.053624",
     "exception": false,
     "start_time": "2022-02-21T08:37:43.930717",
     "status": "completed"
    },
    "tags": []
   },
   "source": [
    "# Does gross income affect customer ratings?"
   ]
  },
  {
   "cell_type": "code",
   "execution_count": 44,
   "id": "b730ddb0",
   "metadata": {
    "execution": {
     "iopub.execute_input": "2022-02-21T08:37:44.306193Z",
     "iopub.status.busy": "2022-02-21T08:37:44.305503Z",
     "iopub.status.idle": "2022-02-21T08:37:44.681967Z",
     "shell.execute_reply": "2022-02-21T08:37:44.682698Z",
     "shell.execute_reply.started": "2022-02-21T07:39:06.817323Z"
    },
    "papermill": {
     "duration": 0.506713,
     "end_time": "2022-02-21T08:37:44.682880",
     "exception": false,
     "start_time": "2022-02-21T08:37:44.176167",
     "status": "completed"
    },
    "tags": []
   },
   "outputs": [
    {
     "data": {
      "image/png": "[encoded data removed]",
      "text/plain": [
       "<Figure size 360x360 with 1 Axes>"
      ]
     },
     "metadata": {
      "needs_background": "light"
     },
     "output_type": "display_data"
    }
   ],
   "source": [
    "sns.relplot(data=mkt, y=\"gross income\", x=\"Rating\",ci=None);"
   ]
  },
  {
   "cell_type": "markdown",
   "id": "543cd16b",
   "metadata": {
    "papermill": {
     "duration": 0.125188,
     "end_time": "2022-02-21T08:37:44.932856",
     "exception": false,
     "start_time": "2022-02-21T08:37:44.807668",
     "status": "completed"
    },
    "tags": []
   },
   "source": [
    "# Which is the most profitable branch?"
   ]
  },
  {
   "cell_type": "code",
   "execution_count": 45,
   "id": "cb27632a",
   "metadata": {
    "execution": {
     "iopub.execute_input": "2022-02-21T08:37:45.192645Z",
     "iopub.status.busy": "2022-02-21T08:37:45.189470Z",
     "iopub.status.idle": "2022-02-21T08:37:45.526937Z",
     "shell.execute_reply": "2022-02-21T08:37:45.526372Z",
     "shell.execute_reply.started": "2022-02-21T07:44:31.873867Z"
    },
    "papermill": {
     "duration": 0.469459,
     "end_time": "2022-02-21T08:37:45.527090",
     "exception": false,
     "start_time": "2022-02-21T08:37:45.057631",
     "status": "completed"
    },
    "tags": []
   },
   "outputs": [
    {
     "data": {
      "image/png": "[encoded data removed]",
      "text/plain": [
       "<Figure size 432x288 with 1 Axes>"
      ]
     },
     "metadata": {
      "needs_background": "light"
     },
     "output_type": "display_data"
    }
   ],
   "source": [
    "sns.barplot(x=\"Branch\", y=\"gross margin percentage\", data=mkt);"
   ]
  },
  {
   "cell_type": "markdown",
   "id": "1695b1d5",
   "metadata": {
    "papermill": {
     "duration": 0.126642,
     "end_time": "2022-02-21T08:37:45.780394",
     "exception": false,
     "start_time": "2022-02-21T08:37:45.653752",
     "status": "completed"
    },
    "tags": []
   },
   "source": [
    "# How is the relationship between Gender and Gross income?"
   ]
  },
  {
   "cell_type": "code",
   "execution_count": 46,
   "id": "c6ba691a",
   "metadata": {
    "execution": {
     "iopub.execute_input": "2022-02-21T08:37:46.044117Z",
     "iopub.status.busy": "2022-02-21T08:37:46.043388Z",
     "iopub.status.idle": "2022-02-21T08:37:46.445098Z",
     "shell.execute_reply": "2022-02-21T08:37:46.444387Z",
     "shell.execute_reply.started": "2022-02-21T07:46:18.045732Z"
    },
    "jupyter": {
     "source_hidden": true
    },
    "papermill": {
     "duration": 0.53658,
     "end_time": "2022-02-21T08:37:46.445258",
     "exception": false,
     "start_time": "2022-02-21T08:37:45.908678",
     "status": "completed"
    },
    "tags": []
   },
   "outputs": [
    {
     "data": {
      "image/png": "[encoded data removed]",
      "text/plain": [
       "<Figure size 432x288 with 1 Axes>"
      ]
     },
     "metadata": {
      "needs_background": "light"
     },
     "output_type": "display_data"
    }
   ],
   "source": [
    "sns.boxplot(data=mkt, y=\"gross income\", x=\"Gender\");"
   ]
  },
  {
   "cell_type": "markdown",
   "id": "417a0edb",
   "metadata": {
    "papermill": {
     "duration": 0.127347,
     "end_time": "2022-02-21T08:37:46.704062",
     "exception": false,
     "start_time": "2022-02-21T08:37:46.576715",
     "status": "completed"
    },
    "tags": []
   },
   "source": [
    "Observation \n",
    "\n",
    "--------------------\n",
    "\n",
    "- stores earning more from female cutomers"
   ]
  },
  {
   "cell_type": "markdown",
   "id": "ad1a31a9",
   "metadata": {
    "papermill": {
     "duration": 0.127028,
     "end_time": "2022-02-21T08:37:46.959658",
     "exception": false,
     "start_time": "2022-02-21T08:37:46.832630",
     "status": "completed"
    },
    "tags": []
   },
   "source": [
    "# Can you see any time trend in gross income? (time series)"
   ]
  },
  {
   "cell_type": "code",
   "execution_count": 47,
   "id": "36fddfb2",
   "metadata": {
    "execution": {
     "iopub.execute_input": "2022-02-21T08:37:47.220412Z",
     "iopub.status.busy": "2022-02-21T08:37:47.219006Z",
     "iopub.status.idle": "2022-02-21T08:37:47.223249Z",
     "shell.execute_reply": "2022-02-21T08:37:47.222590Z"
    },
    "jupyter": {
     "source_hidden": true
    },
    "papermill": {
     "duration": 0.134874,
     "end_time": "2022-02-21T08:37:47.223430",
     "exception": false,
     "start_time": "2022-02-21T08:37:47.088556",
     "status": "completed"
    },
    "tags": []
   },
   "outputs": [],
   "source": [
    "# gross_time = mkt[['gross income', 'Date']].copy()\n",
    "# gross_time.info()\n",
    "# gross_time=gross_time.set_index(['Date'])"
   ]
  },
  {
   "cell_type": "code",
   "execution_count": 48,
   "id": "ac6416fc",
   "metadata": {
    "execution": {
     "iopub.execute_input": "2022-02-21T08:37:47.488537Z",
     "iopub.status.busy": "2022-02-21T08:37:47.484955Z",
     "iopub.status.idle": "2022-02-21T08:37:47.773588Z",
     "shell.execute_reply": "2022-02-21T08:37:47.774125Z",
     "shell.execute_reply.started": "2022-02-21T08:14:37.468648Z"
    },
    "jupyter": {
     "source_hidden": true
    },
    "papermill": {
     "duration": 0.423125,
     "end_time": "2022-02-21T08:37:47.774305",
     "exception": false,
     "start_time": "2022-02-21T08:37:47.351180",
     "status": "completed"
    },
    "tags": []
   },
   "outputs": [
    {
     "data": {
      "text/plain": [
       "<AxesSubplot:xlabel='Date', ylabel='gross income'>"
      ]
     },
     "execution_count": 48,
     "metadata": {},
     "output_type": "execute_result"
    },
    {
     "data": {
      "image/png": "[encoded data removed]",
      "text/plain": [
       "<Figure size 432x288 with 1 Axes>"
      ]
     },
     "metadata": {
      "needs_background": "light"
     },
     "output_type": "display_data"
    }
   ],
   "source": [
    "sns.lineplot(x=\"Date\", y=\"gross income\",\n",
    "             data=mkt,ci=None)"
   ]
  },
  {
   "cell_type": "code",
   "execution_count": 49,
   "id": "85569edc",
   "metadata": {
    "execution": {
     "iopub.execute_input": "2022-02-21T08:37:48.034959Z",
     "iopub.status.busy": "2022-02-21T08:37:48.034284Z",
     "iopub.status.idle": "2022-02-21T08:37:48.036004Z",
     "shell.execute_reply": "2022-02-21T08:37:48.036670Z"
    },
    "jupyter": {
     "source_hidden": true
    },
    "papermill": {
     "duration": 0.134321,
     "end_time": "2022-02-21T08:37:48.036844",
     "exception": false,
     "start_time": "2022-02-21T08:37:47.902523",
     "status": "completed"
    },
    "tags": []
   },
   "outputs": [],
   "source": [
    "# gross_time.plot(grid=True)"
   ]
  },
  {
   "cell_type": "code",
   "execution_count": 50,
   "id": "0d9050aa",
   "metadata": {
    "execution": {
     "iopub.execute_input": "2022-02-21T08:37:48.299247Z",
     "iopub.status.busy": "2022-02-21T08:37:48.298569Z",
     "iopub.status.idle": "2022-02-21T08:37:48.301756Z",
     "shell.execute_reply": "2022-02-21T08:37:48.302393Z"
    },
    "jupyter": {
     "source_hidden": true
    },
    "papermill": {
     "duration": 0.137632,
     "end_time": "2022-02-21T08:37:48.302558",
     "exception": false,
     "start_time": "2022-02-21T08:37:48.164926",
     "status": "completed"
    },
    "tags": []
   },
   "outputs": [],
   "source": [
    "# plt.rcParams[\"figure.figsize\"] = (20,10)\n",
    "# from datetime import datetime\n",
    "# start_date=datetime(2019,1,1)\n",
    "# end_date=datetime(2019,4,1)\n",
    "# gross_time[(start_date<=gross_time.index)&(gross_time.index<=end_date)].plot(grid=True)"
   ]
  },
  {
   "cell_type": "code",
   "execution_count": 51,
   "id": "1e064ce5",
   "metadata": {
    "execution": {
     "iopub.execute_input": "2022-02-21T08:37:48.563746Z",
     "iopub.status.busy": "2022-02-21T08:37:48.563032Z",
     "iopub.status.idle": "2022-02-21T08:37:48.566011Z",
     "shell.execute_reply": "2022-02-21T08:37:48.566705Z"
    },
    "jupyter": {
     "source_hidden": true
    },
    "papermill": {
     "duration": 0.134913,
     "end_time": "2022-02-21T08:37:48.566883",
     "exception": false,
     "start_time": "2022-02-21T08:37:48.431970",
     "status": "completed"
    },
    "tags": []
   },
   "outputs": [],
   "source": [
    "# import statsmodels.api as sm\n",
    "# decompose = sm.tsa.seasonal_decompose(gross_time,model=\"additve\")\n",
    "# decompose.plot()"
   ]
  },
  {
   "cell_type": "code",
   "execution_count": 52,
   "id": "070137cd",
   "metadata": {
    "execution": {
     "iopub.execute_input": "2022-02-21T08:37:48.826784Z",
     "iopub.status.busy": "2022-02-21T08:37:48.826103Z",
     "iopub.status.idle": "2022-02-21T08:37:48.828979Z",
     "shell.execute_reply": "2022-02-21T08:37:48.829656Z"
    },
    "jupyter": {
     "source_hidden": true
    },
    "papermill": {
     "duration": 0.134284,
     "end_time": "2022-02-21T08:37:48.829828",
     "exception": false,
     "start_time": "2022-02-21T08:37:48.695544",
     "status": "completed"
    },
    "tags": []
   },
   "outputs": [],
   "source": [
    "# import statsmodels.api as sm\n",
    "\n",
    "\n",
    "# res = sm.tsa.seasonal_decompose(gross_time)\n",
    "# resplot = res.plot()"
   ]
  },
  {
   "cell_type": "markdown",
   "id": "44e9af88",
   "metadata": {
    "papermill": {
     "duration": 0.13147,
     "end_time": "2022-02-21T08:37:49.090722",
     "exception": false,
     "start_time": "2022-02-21T08:37:48.959252",
     "status": "completed"
    },
    "tags": []
   },
   "source": [
    "# Which product line helps you generate the most income?"
   ]
  },
  {
   "cell_type": "code",
   "execution_count": 53,
   "id": "a5983e8c",
   "metadata": {
    "execution": {
     "iopub.execute_input": "2022-02-21T08:37:49.361901Z",
     "iopub.status.busy": "2022-02-21T08:37:49.359250Z",
     "iopub.status.idle": "2022-02-21T08:37:49.364772Z",
     "shell.execute_reply": "2022-02-21T08:37:49.365453Z",
     "shell.execute_reply.started": "2022-02-21T08:19:57.336531Z"
    },
    "papermill": {
     "duration": 0.142845,
     "end_time": "2022-02-21T08:37:49.365645",
     "exception": false,
     "start_time": "2022-02-21T08:37:49.222800",
     "status": "completed"
    },
    "tags": []
   },
   "outputs": [
    {
     "data": {
      "text/plain": [
       "Index(['Invoice ID', 'Branch', 'City', 'Customer type', 'Gender',\n",
       "       'Product line', 'Unit price', 'Quantity', 'Tax 5%', 'Total', 'Date',\n",
       "       'Time', 'Payment', 'cogs', 'gross margin percentage', 'gross income',\n",
       "       'Rating', 'weekday', 'Hour', 'Minute'],\n",
       "      dtype='object')"
      ]
     },
     "execution_count": 53,
     "metadata": {},
     "output_type": "execute_result"
    }
   ],
   "source": [
    "mkt.columns"
   ]
  },
  {
   "cell_type": "code",
   "execution_count": 54,
   "id": "08b99476",
   "metadata": {
    "execution": {
     "iopub.execute_input": "2022-02-21T08:37:49.629315Z",
     "iopub.status.busy": "2022-02-21T08:37:49.628652Z",
     "iopub.status.idle": "2022-02-21T08:37:50.157390Z",
     "shell.execute_reply": "2022-02-21T08:37:50.157937Z",
     "shell.execute_reply.started": "2022-02-21T08:29:21.451991Z"
    },
    "papermill": {
     "duration": 0.662299,
     "end_time": "2022-02-21T08:37:50.158135",
     "exception": false,
     "start_time": "2022-02-21T08:37:49.495836",
     "status": "completed"
    },
    "tags": []
   },
   "outputs": [
    {
     "data": {
      "text/plain": [
       "<AxesSubplot:xlabel='Product line', ylabel='gross income'>"
      ]
     },
     "execution_count": 54,
     "metadata": {},
     "output_type": "execute_result"
    },
    {
     "data": {
      "image/png": "[encoded data removed]",
      "text/plain": [
       "<Figure size 432x288 with 1 Axes>"
      ]
     },
     "metadata": {
      "needs_background": "light"
     },
     "output_type": "display_data"
    }
   ],
   "source": [
    "sns.barplot(x=\"Product line\", y=\"gross income\",data=mkt)"
   ]
  },
  {
   "cell_type": "markdown",
   "id": "f75544e3",
   "metadata": {
    "papermill": {
     "duration": 0.132633,
     "end_time": "2022-02-21T08:37:50.422725",
     "exception": false,
     "start_time": "2022-02-21T08:37:50.290092",
     "status": "completed"
    },
    "tags": []
   },
   "source": [
    "# What is the spending pattern of both males and females, meaning in which category do they spend more?"
   ]
  },
  {
   "cell_type": "code",
   "execution_count": 55,
   "id": "81505e8f",
   "metadata": {
    "execution": {
     "iopub.execute_input": "2022-02-21T08:37:50.695142Z",
     "iopub.status.busy": "2022-02-21T08:37:50.694449Z",
     "iopub.status.idle": "2022-02-21T08:37:51.473025Z",
     "shell.execute_reply": "2022-02-21T08:37:51.473675Z",
     "shell.execute_reply.started": "2022-02-21T08:33:04.355753Z"
    },
    "papermill": {
     "duration": 0.914627,
     "end_time": "2022-02-21T08:37:51.473862",
     "exception": false,
     "start_time": "2022-02-21T08:37:50.559235",
     "status": "completed"
    },
    "tags": []
   },
   "outputs": [
    {
     "data": {
      "text/plain": [
       "<AxesSubplot:xlabel='Product line', ylabel='Total'>"
      ]
     },
     "execution_count": 55,
     "metadata": {},
     "output_type": "execute_result"
    },
    {
     "data": {
      "image/png": "[encoded data removed]",
      "text/plain": [
       "<Figure size 432x288 with 1 Axes>"
      ]
     },
     "metadata": {
      "needs_background": "light"
     },
     "output_type": "display_data"
    }
   ],
   "source": [
    " sns.boxplot(x=\"Product line\", y=\"Total\", hue=\"Gender\",\n",
    "                 data=mkt, palette=\"Set3\")"
   ]
  },
  {
   "cell_type": "markdown",
   "id": "9260fb6c",
   "metadata": {
    "papermill": {
     "duration": 0.136083,
     "end_time": "2022-02-21T08:37:51.745033",
     "exception": false,
     "start_time": "2022-02-21T08:37:51.608950",
     "status": "completed"
    },
    "tags": []
   },
   "source": [
    "# How many products are bought by customers?"
   ]
  },
  {
   "cell_type": "code",
   "execution_count": 56,
   "id": "28dc2d4f",
   "metadata": {
    "execution": {
     "iopub.execute_input": "2022-02-21T08:37:52.013108Z",
     "iopub.status.busy": "2022-02-21T08:37:52.012032Z",
     "iopub.status.idle": "2022-02-21T08:37:52.253609Z",
     "shell.execute_reply": "2022-02-21T08:37:52.254258Z",
     "shell.execute_reply.started": "2022-02-21T08:34:36.073263Z"
    },
    "papermill": {
     "duration": 0.377626,
     "end_time": "2022-02-21T08:37:52.254463",
     "exception": false,
     "start_time": "2022-02-21T08:37:51.876837",
     "status": "completed"
    },
    "tags": []
   },
   "outputs": [
    {
     "data": {
      "image/png": "[encoded data removed]",
      "text/plain": [
       "<Figure size 432x288 with 1 Axes>"
      ]
     },
     "metadata": {
      "needs_background": "light"
     },
     "output_type": "display_data"
    }
   ],
   "source": [
    "sns.countplot(x=\"Product line\", data=mkt,order = mkt['Product line'].value_counts().index);"
   ]
  },
  {
   "cell_type": "markdown",
   "id": "024a7166",
   "metadata": {
    "papermill": {
     "duration": 0.1341,
     "end_time": "2022-02-21T08:37:52.524711",
     "exception": false,
     "start_time": "2022-02-21T08:37:52.390611",
     "status": "completed"
    },
    "tags": []
   },
   "source": [
    "# Which day of the week has maximum sales?"
   ]
  },
  {
   "cell_type": "code",
   "execution_count": 57,
   "id": "1776ee71",
   "metadata": {
    "execution": {
     "iopub.execute_input": "2022-02-21T08:37:52.796556Z",
     "iopub.status.busy": "2022-02-21T08:37:52.795482Z",
     "iopub.status.idle": "2022-02-21T08:37:52.801552Z",
     "shell.execute_reply": "2022-02-21T08:37:52.802078Z",
     "shell.execute_reply.started": "2022-02-21T08:35:26.542758Z"
    },
    "papermill": {
     "duration": 0.142087,
     "end_time": "2022-02-21T08:37:52.802251",
     "exception": false,
     "start_time": "2022-02-21T08:37:52.660164",
     "status": "completed"
    },
    "tags": []
   },
   "outputs": [
    {
     "data": {
      "text/plain": [
       "Index(['Invoice ID', 'Branch', 'City', 'Customer type', 'Gender',\n",
       "       'Product line', 'Unit price', 'Quantity', 'Tax 5%', 'Total', 'Date',\n",
       "       'Time', 'Payment', 'cogs', 'gross margin percentage', 'gross income',\n",
       "       'Rating', 'weekday', 'Hour', 'Minute'],\n",
       "      dtype='object')"
      ]
     },
     "execution_count": 57,
     "metadata": {},
     "output_type": "execute_result"
    }
   ],
   "source": [
    "mkt.columns"
   ]
  },
  {
   "cell_type": "code",
   "execution_count": 58,
   "id": "48a2be70",
   "metadata": {
    "execution": {
     "iopub.execute_input": "2022-02-21T08:37:53.072427Z",
     "iopub.status.busy": "2022-02-21T08:37:53.071312Z",
     "iopub.status.idle": "2022-02-21T08:37:53.453990Z",
     "shell.execute_reply": "2022-02-21T08:37:53.454506Z",
     "shell.execute_reply.started": "2022-02-21T08:35:42.971855Z"
    },
    "papermill": {
     "duration": 0.519457,
     "end_time": "2022-02-21T08:37:53.454691",
     "exception": false,
     "start_time": "2022-02-21T08:37:52.935234",
     "status": "completed"
    },
    "tags": []
   },
   "outputs": [
    {
     "data": {
      "text/plain": [
       "<AxesSubplot:xlabel='weekday', ylabel='Total'>"
      ]
     },
     "execution_count": 58,
     "metadata": {},
     "output_type": "execute_result"
    },
    {
     "data": {
      "image/png": "[encoded data removed]",
      "text/plain": [
       "<Figure size 842.4x595.44 with 1 Axes>"
      ]
     },
     "metadata": {},
     "output_type": "display_data"
    }
   ],
   "source": [
    "sns.set(rc={'figure.figsize':(11.7,8.27)})\n",
    "sns.boxplot(x=\"weekday\", y=\"Total\", data=mkt, palette=\"Set2\")"
   ]
  },
  {
   "cell_type": "markdown",
   "id": "875d353b",
   "metadata": {
    "papermill": {
     "duration": 0.134196,
     "end_time": "2022-02-21T08:37:53.724706",
     "exception": false,
     "start_time": "2022-02-21T08:37:53.590510",
     "status": "completed"
    },
    "tags": []
   },
   "source": [
    "# Which hour of the day is busiest?"
   ]
  },
  {
   "cell_type": "code",
   "execution_count": null,
   "id": "de3ac347",
   "metadata": {
    "papermill": {
     "duration": 0.134534,
     "end_time": "2022-02-21T08:37:53.993815",
     "exception": false,
     "start_time": "2022-02-21T08:37:53.859281",
     "status": "completed"
    },
    "tags": []
   },
   "outputs": [],
   "source": []
  },
  {
   "cell_type": "markdown",
   "id": "243e58f5",
   "metadata": {
    "papermill": {
     "duration": 0.149343,
     "end_time": "2022-02-21T08:37:54.297743",
     "exception": false,
     "start_time": "2022-02-21T08:37:54.148400",
     "status": "completed"
    },
    "tags": []
   },
   "source": [
    "# Which product line should your supermarket focus on?"
   ]
  },
  {
   "cell_type": "code",
   "execution_count": null,
   "id": "f0410317",
   "metadata": {
    "papermill": {
     "duration": 0.165551,
     "end_time": "2022-02-21T08:37:54.645450",
     "exception": false,
     "start_time": "2022-02-21T08:37:54.479899",
     "status": "completed"
    },
    "tags": []
   },
   "outputs": [],
   "source": []
  },
  {
   "cell_type": "markdown",
   "id": "28628e86",
   "metadata": {
    "papermill": {
     "duration": 0.141224,
     "end_time": "2022-02-21T08:37:54.928024",
     "exception": false,
     "start_time": "2022-02-21T08:37:54.786800",
     "status": "completed"
    },
    "tags": []
   },
   "source": [
    "# Which city should be chosen for expansion and what products should be focussed on? \n",
    "\n",
    "- (gross amrgin precentage , time series with date)"
   ]
  },
  {
   "cell_type": "code",
   "execution_count": null,
   "id": "f36d1a86",
   "metadata": {
    "papermill": {
     "duration": 0.146749,
     "end_time": "2022-02-21T08:37:55.213312",
     "exception": false,
     "start_time": "2022-02-21T08:37:55.066563",
     "status": "completed"
    },
    "tags": []
   },
   "outputs": [],
   "source": []
  }
 ],
 "metadata": {
  "kernelspec": {
   "display_name": "Python 3",
   "language": "python",
   "name": "python3"
  },
  "language_info": {
   "codemirror_mode": {
    "name": "ipython",
    "version": 3
   },
   "file_extension": ".py",
   "mimetype": "text/x-python",
   "name": "python",
   "nbconvert_exporter": "python",
   "pygments_lexer": "ipython3",
   "version": "3.7.12"
  },
  "papermill": {
   "default_parameters": {},
   "duration": 45.467489,
   "end_time": "2022-02-21T08:37:56.071893",
   "environment_variables": {},
   "exception": null,
   "input_path": "__notebook__.ipynb",
   "output_path": "__notebook__.ipynb",
   "parameters": {},
   "start_time": "2022-02-21T08:37:10.604404",
   "version": "2.3.3"
  }
 },
 "nbformat": 4,
 "nbformat_minor": 5
}
